{
 "cells": [
  {
   "cell_type": "code",
   "execution_count": 1,
   "metadata": {},
   "outputs": [],
   "source": [
    "import numpy as np\n",
    "import matplotlib.pyplot as plt"
   ]
  },
  {
   "cell_type": "code",
   "execution_count": 100,
   "metadata": {},
   "outputs": [],
   "source": [
    "from numbers import Integral\n",
    "import numpy as np\n",
    "\n",
    "class System(object):\n",
    "    def __init__(self, dim):\n",
    "        assert isinstance(dim, Integral) and dim >= 0\n",
    "        self.dim = dim\n",
    "        \n",
    "class PointChargeSystem(System):\n",
    "    def __init__(self, dim, coords, charges):\n",
    "        super().__init__(dim)\n",
    "        _coords, _charges = (self._try2arr(arg) for arg in (coords, charges))\n",
    "#         try: _coords, _charges = np.array(coords), np.array(charges)\n",
    "#         except: raise TypeError(\"Could not convert arguments to numpy.ndarray\")\n",
    "#         for _arg in (coords, charges): assert hasattr(_arg, \"__len__\")\n",
    "        assert _coords.ndim == 2 and _charges.ndim == 1\n",
    "        if _coords.shape[0] == _charges.size: self.N = _charges.size\n",
    "        else: raise Exception(\"mismatch of numbers of chrages and coordinates\")\n",
    "        self.coords, self.charges = _coords, _charges\n",
    "        \n",
    "    @staticmethod\n",
    "    def _try2arr(arr):\n",
    "        if isinstance(arr, np.ndarray): return arr\n",
    "        try: _ndarr = np.array(arr)\n",
    "        except: raise TypeError(\"Could not convert arguments to {}\".format(np.ndarray))\n",
    "        return _ndarr\n",
    "        \n",
    "    def V(self, coords, thres=1e-10):\n",
    "        \"\"\"Evaluates electric potential in atomic units\n",
    "        \n",
    "        # Arguments\n",
    "        - `coords` ndarray of shape (dim,...)\n",
    "          : coordinates of evaluation\n",
    "        \"\"\"\n",
    "        _coords = self._try2arr(coords)\n",
    "        assert _coords.shape[0] == self.dim\n",
    "        _coords = np.moveaxis(_coords, 0, -1)\n",
    "        _V = np.zeros(_coords.shape[:-1], dtype=float)\n",
    "        for _ri, _qi in zip(self.coords, self.charges):\n",
    "            _dist = np.sqrt(np.square(_coords - _ri).sum(axis=-1))\n",
    "            _dist[_dist<thres] = thres\n",
    "            _V += _qi / _dist\n",
    "        return _V"
   ]
  },
  {
   "cell_type": "markdown",
   "metadata": {},
   "source": [
    "# implement diverge-limit"
   ]
  },
  {
   "cell_type": "code",
   "execution_count": 198,
   "metadata": {},
   "outputs": [],
   "source": [
    "charge_coords = ([-1,1,0],[1,0,0],[-1,-1,0])\n",
    "charges = (-1, 2, -1)\n",
    "sys = PointChargeSystem(3, charge_coords, charges)"
   ]
  },
  {
   "cell_type": "code",
   "execution_count": 199,
   "metadata": {},
   "outputs": [
    {
     "data": {
      "text/plain": [
       "array([0.24676019, 0.10321107])"
      ]
     },
     "execution_count": 199,
     "metadata": {},
     "output_type": "execute_result"
    }
   ],
   "source": [
    "sys.V(((4,5),(1,3),(0,0)))"
   ]
  },
  {
   "cell_type": "markdown",
   "metadata": {},
   "source": [
    "# Plot $V\\left(\\mathbf{r}\\right)$"
   ]
  },
  {
   "cell_type": "markdown",
   "metadata": {},
   "source": [
    "### Prepare evalulation coordnates"
   ]
  },
  {
   "cell_type": "code",
   "execution_count": 200,
   "metadata": {},
   "outputs": [],
   "source": [
    "mesh_x_val = np.linspace(-3,3,51)\n",
    "mesh_y_val = np.linspace(-3,3,31)\n",
    "X, Y = np.meshgrid(mesh_x_val, mesh_y_val)\n",
    "Z = np.zeros_like(X)"
   ]
  },
  {
   "cell_type": "code",
   "execution_count": 201,
   "metadata": {},
   "outputs": [],
   "source": [
    "V_arr = sys.V((X, Y, Z))"
   ]
  },
  {
   "cell_type": "code",
   "execution_count": 202,
   "metadata": {},
   "outputs": [],
   "source": [
    "vmax = np.abs(np.quantile(V_arr, (0.005,0.995))).max()\n",
    "vmin = -vmax\n",
    "from matplotlib.colors import Normalize\n",
    "norm = Normalize(vmin, vmax)\n",
    "\n",
    "xlim = mesh_x_val[[0, -1]]\n",
    "ylim = mesh_y_val[[0, -1]]\n",
    "extent = (*xlim, *ylim)"
   ]
  },
  {
   "cell_type": "code",
   "execution_count": 203,
   "metadata": {},
   "outputs": [
    {
     "data": {
      "image/png": "[encoded data removed]",
      "text/plain": [
       "<Figure size 432x288 with 2 Axes>"
      ]
     },
     "metadata": {},
     "output_type": "display_data"
    }
   ],
   "source": [
    "fig, ax = plt.subplots()\n",
    "\n",
    "img = ax.imshow(V_arr, norm=norm, cmap='seismic', extent=extent, origin='lower')\n",
    "ax.set_xlabel(\"x / a.u.\"), ax.set_ylabel(\"y / a.u.\")\n",
    "cb = fig.colorbar(img, ax=ax)\n",
    "cb.set_label(r\"potential $V\\left(\\mathbf{r}\\right)$ / a.u.\")"
   ]
  },
  {
   "cell_type": "code",
   "execution_count": 204,
   "metadata": {},
   "outputs": [],
   "source": [
    "# fig.savefig(\"potential-test-2.png\")"
   ]
  },
  {
   "cell_type": "markdown",
   "metadata": {},
   "source": [
    "# etc."
   ]
  },
  {
   "cell_type": "code",
   "execution_count": 11,
   "metadata": {},
   "outputs": [],
   "source": [
    "aa = np.arange(24).reshape(3,8)\n",
    "\n",
    "aa"
   ]
  },
  {
   "cell_type": "code",
   "execution_count": 17,
   "metadata": {},
   "outputs": [],
   "source": [
    "r0 = np.array((-1,-1,-1))"
   ]
  },
  {
   "cell_type": "code",
   "execution_count": 19,
   "metadata": {},
   "outputs": [
    {
     "data": {
      "text/plain": [
       "array([[ 1,  9, 17],\n",
       "       [ 2, 10, 18],\n",
       "       [ 3, 11, 19],\n",
       "       [ 4, 12, 20],\n",
       "       [ 5, 13, 21],\n",
       "       [ 6, 14, 22],\n",
       "       [ 7, 15, 23],\n",
       "       [ 8, 16, 24]])"
      ]
     },
     "execution_count": 19,
     "metadata": {},
     "output_type": "execute_result"
    }
   ],
   "source": [
    "aa.transpose() - r0"
   ]
  }
 ],
 "metadata": {
  "kernelspec": {
   "display_name": "Python 3",
   "language": "python",
   "name": "python3"
  },
  "language_info": {
   "codemirror_mode": {
    "name": "ipython",
    "version": 3
   },
   "file_extension": ".py",
   "mimetype": "text/x-python",
   "name": "python",
   "nbconvert_exporter": "python",
   "pygments_lexer": "ipython3",
   "version": "3.6.0"
  }
 },
 "nbformat": 4,
 "nbformat_minor": 2
}
