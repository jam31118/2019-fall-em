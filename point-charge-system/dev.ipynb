{
 "cells": [
  {
   "cell_type": "code",
   "execution_count": 1,
   "metadata": {},
   "outputs": [],
   "source": [
    "import numpy as np\n",
    "import matplotlib.pyplot as plt"
   ]
  },
  {
   "cell_type": "markdown",
   "metadata": {},
   "source": [
    "# Define class routine"
   ]
  },
  {
   "cell_type": "code",
   "execution_count": 2,
   "metadata": {},
   "outputs": [],
   "source": [
    "from numbers import Integral\n",
    "import numpy as np\n",
    "\n",
    "\n",
    "class System(object):\n",
    "    def __init__(self, dim):\n",
    "        assert isinstance(dim, Integral) and dim >= 0\n",
    "        self.dim = dim\n",
    "        \n",
    "        \n",
    "class PointChargeSystem(System):\n",
    "    \n",
    "    def __init__(self, dim, coords, charges):\n",
    "        super().__init__(dim)\n",
    "        _coords, _charges = (self._try2arr(arg) for arg in (coords, charges))\n",
    "        assert _coords.ndim == 2 and _charges.ndim == 1\n",
    "        if _coords.shape[0] == _charges.size: self.N = _charges.size\n",
    "        else: raise Exception(\"mismatch of numbers of chrages and coordinates\")\n",
    "        self.coords, self.charges = _coords, _charges\n",
    "        \n",
    "        \n",
    "    @staticmethod\n",
    "    def _try2arr(arr):\n",
    "        if isinstance(arr, np.ndarray): return arr\n",
    "        try: _ndarr = np.array(arr)\n",
    "        except: raise TypeError(\"Could not convert arguments to {}\".format(np.ndarray))\n",
    "        return _ndarr\n",
    "\n",
    "    \n",
    "    def V_and_E(self, coords, thres=1e-10):\n",
    "        \"\"\"Evaluates electric potential in atomic units\n",
    "        \n",
    "        # Arguments\n",
    "        - `coords` ndarray of shape (dim,...)\n",
    "          : coordinates of evaluation\n",
    "        \"\"\"\n",
    "        _coords_original = self._try2arr(coords)\n",
    "        \n",
    "#         print(coords, _coords_original)\n",
    "        \n",
    "        assert _coords_original.shape[0] == self.dim\n",
    "        _coords = np.moveaxis(_coords_original, 0, -1)\n",
    "        \n",
    "        _V = np.zeros(_coords.shape[:-1], dtype=float)\n",
    "        _E = np.zeros(_coords_original.shape, dtype=float)\n",
    "        for _ri, _qi in zip(self.coords, self.charges):\n",
    "            _rel_coords = _coords - _ri\n",
    "            _dist_sq = np.square(_rel_coords).sum(axis=-1)\n",
    "            _dist = np.array(np.sqrt(_dist_sq))\n",
    "            _dist[_dist<thres] = thres\n",
    "            \n",
    "            _Vi = _qi / _dist\n",
    "            _V += _Vi\n",
    "            \n",
    "            _Ei = (_Vi / _dist_sq) * np.moveaxis(_rel_coords, -1, 0)\n",
    "            _E += _Ei\n",
    "            \n",
    "        return _V, _E\n",
    "    \n",
    "    \n",
    "    def V(self, coords, thres=1e-10):\n",
    "        _V, _ = self.V_and_E(coords, thres)\n",
    "        return _V\n",
    "    \n",
    "    \n",
    "    def E(self, coords, thres=1e-10):\n",
    "        _, _E = self.V_and_E(coords, thres)\n",
    "        return _E\n",
    "    \n",
    "    \n",
    "    def is_near_negative_charge(self, coord, delta):\n",
    "        assert delta > 0\n",
    "        _coord = self._try2arr(coord)\n",
    "        assert _coord.shape == (self.dim,)\n",
    "        nega_charge_indice, = np.where(self.charges < 0)\n",
    "        if len(nega_charge_indice) < 1: raise NotImplementedError()\n",
    "        nega_charge_coords = self.coords[nega_charge_indice]\n",
    "        _dist = np.sqrt(np.square(nega_charge_coords - _coord).sum(axis=-1))\n",
    "#         print(_dist)\n",
    "        return np.any(_dist < delta)"
   ]
  },
  {
   "cell_type": "markdown",
   "metadata": {},
   "source": [
    "# Construct a system of point charges"
   ]
  },
  {
   "cell_type": "code",
   "execution_count": 3,
   "metadata": {},
   "outputs": [],
   "source": [
    "charge_coords = ([-1,1,0],[1,0,0],[-1,-1,0])\n",
    "charges = (-1, 2, -1)\n",
    "sys = PointChargeSystem(3, charge_coords, charges)"
   ]
  },
  {
   "cell_type": "markdown",
   "metadata": {},
   "source": [
    "### Test evaluation of potential and electric field"
   ]
  },
  {
   "cell_type": "code",
   "execution_count": 4,
   "metadata": {},
   "outputs": [
    {
     "data": {
      "text/plain": [
       "(array(9.02871414), array([-5.04123383e+01,  6.12010442e-15,  0.00000000e+00]))"
      ]
     },
     "execution_count": 4,
     "metadata": {},
     "output_type": "execute_result"
    }
   ],
   "source": [
    "sys.V_and_E([8.0000000e-01, 2.4492936e-17, 0.0000000e+00])"
   ]
  },
  {
   "cell_type": "code",
   "execution_count": 5,
   "metadata": {},
   "outputs": [
    {
     "data": {
      "text/plain": [
       "True"
      ]
     },
     "execution_count": 5,
     "metadata": {},
     "output_type": "execute_result"
    }
   ],
   "source": [
    "sys.is_near_negative_charge((0,0,0),2.0)"
   ]
  },
  {
   "cell_type": "code",
   "execution_count": 6,
   "metadata": {},
   "outputs": [
    {
     "data": {
      "text/plain": [
       "(array([0.24676019, 0.10321107]), array([[0.11772022, 0.02428195],\n",
       "        [0.05043898, 0.02942699],\n",
       "        [0.        , 0.        ]]))"
      ]
     },
     "execution_count": 6,
     "metadata": {},
     "output_type": "execute_result"
    }
   ],
   "source": [
    "sys.V_and_E(((4,5),(1,3),(0,0)))"
   ]
  },
  {
   "cell_type": "code",
   "execution_count": 7,
   "metadata": {},
   "outputs": [
    {
     "data": {
      "text/plain": [
       "(array(0.2744344), array([0.14679294, 0.        , 0.        ]))"
      ]
     },
     "execution_count": 7,
     "metadata": {},
     "output_type": "execute_result"
    }
   ],
   "source": [
    "sys.V_and_E((4,0,0))"
   ]
  },
  {
   "cell_type": "markdown",
   "metadata": {},
   "source": [
    "# Evaluate electric field line\n",
    "\n",
    "### The field line integration is stopped at one of the following cases:\n",
    "- went close enough to any of the negative charges\n",
    "- went out of bounding box"
   ]
  },
  {
   "cell_type": "code",
   "execution_count": 8,
   "metadata": {},
   "outputs": [],
   "source": [
    "positive_charge_indice, = np.where(sys.charges > 0)\n",
    "delta = 0.2\n",
    "N_per_charge = 15\n",
    "N_posi_charge = len(positive_charge_indice)\n",
    "N_lines = N_per_charge * N_posi_charge\n",
    "\n",
    "# r0_arr = np.empty((N_lines, sys.dim), dtype=float)\n",
    "r0_list = []\n",
    "for charge_ind in positive_charge_indice:\n",
    "    ri = sys.coords[charge_ind]\n",
    "    for i in range(N_per_charge):\n",
    "        angle = 2*np.pi * i / N_per_charge\n",
    "        disp = np.array((delta*np.cos(angle), delta*np.sin(angle), 0))\n",
    "        r0_list.append(ri + disp)\n",
    "r0_arr = np.array(r0_list)\n",
    "\n",
    "assert r0_arr.shape == (N_lines, sys.dim)"
   ]
  },
  {
   "cell_type": "markdown",
   "metadata": {},
   "source": [
    "# use implicit ode method,, .. the explicit method doens't seem to work -- let's try to use such methods as `vode` --> it also showed no difference"
   ]
  },
  {
   "cell_type": "code",
   "execution_count": 9,
   "metadata": {},
   "outputs": [
    {
     "name": "stderr",
     "output_type": "stream",
     "text": [
      "/home/seongjin/py/venv/sci/lib/python3.6/site-packages/scipy/integrate/_ode.py:1348: UserWarning: lsoda: Excess work done on this call (perhaps wrong Dfun type).\n",
      "  self.messages.get(istate, unexpected_istate_msg)))\n"
     ]
    }
   ],
   "source": [
    "from scipy.integrate import ode\n",
    "\n",
    "ode_E_func = lambda t, x: sys.E(x)\n",
    "# r = ode(ode_E_func).set_integrator('dopri5')\n",
    "r = ode(ode_E_func).set_integrator('lsoda')\n",
    "\n",
    "# sol = []\n",
    "# solout = lambda t, y: sol.append([t, *y])\n",
    "# r.set_solout(solout)\n",
    "\n",
    "t0, tmax, dt = 0.0, 10.0, 0.1\n",
    "\n",
    "field_lines = []\n",
    "for r0 in r0_arr:\n",
    "    r.set_initial_value(r0, t0)\n",
    "    \n",
    "    sol = []\n",
    "    sol.append([r.t, *r.y])\n",
    "    while (r.t < tmax) and not sys.is_near_negative_charge(r.y, delta) and r.successful:\n",
    "#         print(\"E: \",sys.E(r.y), \"r: \",r.y)\n",
    "        r.integrate(r.t + dt)\n",
    "        sol.append([r.t, *r.y])\n",
    "\n",
    "#     print(\"dd\",r0,\"\\n\\n\")\n",
    "        \n",
    "    sol_arr = np.array(sol)\n",
    "    field_lines.append(sol_arr)"
   ]
  },
  {
   "cell_type": "markdown",
   "metadata": {},
   "source": [
    "# Plot $V\\left(\\mathbf{r}\\right)$ and $\\mathbf{E}$"
   ]
  },
  {
   "cell_type": "markdown",
   "metadata": {},
   "source": [
    "### Prepare evalulation coordnates"
   ]
  },
  {
   "cell_type": "code",
   "execution_count": 10,
   "metadata": {},
   "outputs": [],
   "source": [
    "mesh_x_val = np.linspace(-3,3,51)\n",
    "mesh_y_val = np.linspace(-3,3,31)\n",
    "X, Y = np.meshgrid(mesh_x_val, mesh_y_val)\n",
    "Z = np.zeros_like(X)"
   ]
  },
  {
   "cell_type": "markdown",
   "metadata": {},
   "source": [
    "### Evaluate $V(\\mathbf{r})$"
   ]
  },
  {
   "cell_type": "code",
   "execution_count": 11,
   "metadata": {},
   "outputs": [],
   "source": [
    "V_arr = sys.V((X, Y, Z))"
   ]
  },
  {
   "cell_type": "markdown",
   "metadata": {},
   "source": [
    "### Configure plot appearence"
   ]
  },
  {
   "cell_type": "code",
   "execution_count": 12,
   "metadata": {},
   "outputs": [],
   "source": [
    "# Configure colormap\n",
    "vmax = np.abs(np.quantile(V_arr, (0.005,0.995))).max()\n",
    "vmin = -vmax\n",
    "from matplotlib.colors import Normalize\n",
    "norm = Normalize(vmin, vmax)\n",
    "\n",
    "# Configure display extent\n",
    "xlim = mesh_x_val[[0, -1]]\n",
    "ylim = mesh_y_val[[0, -1]]\n",
    "extent = (*xlim, *ylim)\n",
    "\n",
    "# Configure contour lines\n",
    "levels = np.quantile(V_arr, np.linspace(0.05, 0.95, 7))"
   ]
  },
  {
   "cell_type": "markdown",
   "metadata": {},
   "source": [
    "### Actual plotting"
   ]
  },
  {
   "cell_type": "markdown",
   "metadata": {},
   "source": [
    "# why does the line get quakaed!"
   ]
  },
  {
   "cell_type": "code",
   "execution_count": 13,
   "metadata": {},
   "outputs": [
    {
     "data": {
      "image/png": "[encoded data removed]",
      "text/plain": [
       "<Figure size 432x288 with 2 Axes>"
      ]
     },
     "metadata": {},
     "output_type": "display_data"
    }
   ],
   "source": [
    "fig, ax = plt.subplots()\n",
    "\n",
    "ax.contour(X, Y, V_arr, levels, colors='gray', linestyles='dashed', alpha=0.7)\n",
    "\n",
    "for idx, field_line in enumerate(field_lines):\n",
    "#     if idx != 4: continue\n",
    "    ax.plot(field_line[:,1], field_line[:,2], color='gray', alpha=0.7)\n",
    "\n",
    "img = ax.imshow(V_arr, norm=norm, cmap='seismic', extent=extent, origin='lower')\n",
    "    \n",
    "ax.set_xlabel(\"x / a.u.\"), ax.set_ylabel(\"y / a.u.\")\n",
    "cb = fig.colorbar(img, ax=ax)\n",
    "cb.set_label(r\"potential $V\\left(\\mathbf{r}\\right)$ / a.u.\")"
   ]
  },
  {
   "cell_type": "code",
   "execution_count": 14,
   "metadata": {},
   "outputs": [],
   "source": [
    "# fig.savefig(\"potential-with-field-test-10.png\")"
   ]
  }
 ],
 "metadata": {
  "kernelspec": {
   "display_name": "Python 3",
   "language": "python",
   "name": "python3"
  },
  "language_info": {
   "codemirror_mode": {
    "name": "ipython",
    "version": 3
   },
   "file_extension": ".py",
   "mimetype": "text/x-python",
   "name": "python",
   "nbconvert_exporter": "python",
   "pygments_lexer": "ipython3",
   "version": "3.6.0"
  }
 },
 "nbformat": 4,
 "nbformat_minor": 2
}
