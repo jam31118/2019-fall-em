{
 "cells": [
  {
   "cell_type": "code",
   "execution_count": 23,
   "metadata": {},
   "outputs": [],
   "source": [
    "import numpy as np\n",
    "from numpy import sin, cos, pi\n",
    "\n",
    "import matplotlib.pyplot as plt\n",
    "from scipy.integrate import ode"
   ]
  },
  {
   "cell_type": "code",
   "execution_count": 24,
   "metadata": {},
   "outputs": [],
   "source": [
    "def f(t, y, m):\n",
    "    \"\"\"\n",
    "    \n",
    "    # Argument\n",
    "    `y`: ndarray of shape (6,)\n",
    "    \"\"\"\n",
    "    assert m > 0\n",
    "    _Fr, _Fth, _Fph = 0.0, 0.0, 0.0\n",
    "    \n",
    "    _f = np.empty_like(y)\n",
    "    _f[0:3] = y[3:]\n",
    "    _f[3] = _Fr/m + y[0]*y[5]**2\n",
    "    _f[4] = (_Fth/m) / y[0]\n",
    "    _f[5] = (_Fph/m - 2.0*y[3]*y[5]) / y[0]\n",
    "    \n",
    "    return _f"
   ]
  },
  {
   "cell_type": "code",
   "execution_count": 39,
   "metadata": {},
   "outputs": [],
   "source": [
    "m = 1.0\n",
    "t0, sol_t0 = 0.0, (1, pi/2.0, 0.0, 1.0, 0.0, 0.0)\n",
    "t_arr = np.linspace(t0, 1.0, 20)\n",
    "\n",
    "r = ode(f).set_f_params(m).set_integrator('lsoda')\n",
    "r.set_initial_value(sol_t0, t0)\n",
    "\n",
    "sol_t = np.empty((t_arr.size, 6), dtype=float)\n",
    "sol_t[0,:] = sol_t0\n",
    "for i in range(1,t_arr.size):\n",
    "    sol_t[i,:] = r.integrate(t_arr[i])\n",
    "    if not r.successful():\n",
    "        raise Exception(\"integration failed\")"
   ]
  },
  {
   "cell_type": "code",
   "execution_count": 43,
   "metadata": {},
   "outputs": [],
   "source": [
    "r_t, theta_t, phi_t = sol_t[:,:3].transpose()\n",
    "x_t, y_t, z_t = r_t*sin(theta_t)*cos(phi_t), r_t*sin(theta_t)*sin(phi_t), r_t*cos(theta_t)\n",
    "\n",
    "# Confirm that the solution lies on the xy-plane since theta was fixed to pi/2\n",
    "assert np.all(np.abs(theta_t - pi / 2) < 1e-14)\n",
    "assert np.all(np.abs(z_t) < 1e-14)"
   ]
  },
  {
   "cell_type": "code",
   "execution_count": 85,
   "metadata": {},
   "outputs": [],
   "source": [
    "sol_annot_str = r\"[$r,\\theta,\\phi,\\dot{{r}},\\dot{{\\theta}},\\dot{{\\phi}}$]\"\n",
    "sol_t0_str = np.array2string(sol_t[0,:], precision=3, separator=',', formatter={'float':\"{:.2f}\".format})"
   ]
  },
  {
   "cell_type": "code",
   "execution_count": 87,
   "metadata": {},
   "outputs": [
    {
     "data": {
      "text/plain": [
       "Text(0.5, 1.0, '[$r,\\\\theta,\\\\phi,\\\\dot{{r}},\\\\dot{{\\\\theta}},\\\\dot{{\\\\phi}}$] = [1.00,1.57,0.00,1.00,0.00,0.00]')"
      ]
     },
     "execution_count": 87,
     "metadata": {},
     "output_type": "execute_result"
    },
    {
     "data": {
      "image/png": "[encoded data removed]",
      "text/plain": [
       "<Figure size 432x288 with 1 Axes>"
      ]
     },
     "metadata": {},
     "output_type": "display_data"
    }
   ],
   "source": [
    "fig, ax = plt.subplots()\n",
    "\n",
    "ax.plot(x_t, y_t)\n",
    "\n",
    "ax.set_aspect(1.0)\n",
    "ax.set_xlabel('x'), ax.set_ylabel('y')\n",
    "ax.set_title(r\"{} = {}\".format(sol_annot_str, sol_t0_str))"
   ]
  },
  {
   "cell_type": "code",
   "execution_count": 90,
   "metadata": {},
   "outputs": [
    {
     "name": "stdout",
     "output_type": "stream",
     "text": [
      "sol_t0_[1.00,1.57,0.00,1.00,0.00,0.00].png\n"
     ]
    }
   ],
   "source": [
    "fig_filename = \"sol_t0_{}.png\".format(sol_t0_str)\n",
    "print(fig_filename)\n",
    "# fig.savefig(fig_filename)"
   ]
  }
 ],
 "metadata": {
  "kernelspec": {
   "display_name": "Python 3",
   "language": "python",
   "name": "python3"
  },
  "language_info": {
   "codemirror_mode": {
    "name": "ipython",
    "version": 3
   },
   "file_extension": ".py",
   "mimetype": "text/x-python",
   "name": "python",
   "nbconvert_exporter": "python",
   "pygments_lexer": "ipython3",
   "version": "3.6.0"
  }
 },
 "nbformat": 4,
 "nbformat_minor": 2
}
