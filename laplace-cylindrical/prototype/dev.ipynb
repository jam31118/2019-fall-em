{
 "cells": [
  {
   "cell_type": "code",
   "execution_count": 1,
   "metadata": {},
   "outputs": [],
   "source": [
    "import numpy as np\n",
    "import matplotlib.pyplot as plt"
   ]
  },
  {
   "cell_type": "markdown",
   "metadata": {},
   "source": [
    "# Define spatial grid"
   ]
  },
  {
   "cell_type": "code",
   "execution_count": 2,
   "metadata": {},
   "outputs": [],
   "source": [
    "rho_min, rho_max, min_delta_rho = 0.0, 5.0, 0.2\n",
    "z_min, z_max, min_delta_z = -3.0, 6.0, 0.2"
   ]
  },
  {
   "cell_type": "code",
   "execution_count": 3,
   "metadata": {},
   "outputs": [],
   "source": [
    "assert (rho_min >= 0) and (rho_min < rho_max)\n",
    "assert (z_min < z_max)\n",
    "\n",
    "def get_N_grid(xmin, xmax, min_delta_x): \n",
    "    return int((xmax-xmin+min_delta_x)/min_delta_x) + 1\n",
    "\n",
    "N_rho = get_N_grid(rho_min, rho_max, min_delta_rho)\n",
    "rho_arr = np.linspace(rho_min, rho_max, N_rho)\n",
    "delta_rho = rho_arr[1] - rho_arr[0]\n",
    "\n",
    "N_z = get_N_grid(z_min, z_max, min_delta_z)\n",
    "z_arr = np.linspace(z_min, z_max, N_z)\n",
    "delta_z = z_arr[1] - z_arr[0]\n",
    "\n",
    "grid_shape = (N_rho, N_z)"
   ]
  },
  {
   "cell_type": "code",
   "execution_count": 4,
   "metadata": {},
   "outputs": [],
   "source": [
    "drho, dz = delta_rho, delta_z  # aliasing"
   ]
  },
  {
   "cell_type": "code",
   "execution_count": 5,
   "metadata": {},
   "outputs": [],
   "source": [
    "Rho, Z = np.meshgrid(rho_arr, z_arr, indexing='ij')\n",
    "\n",
    "Dist1 = np.sqrt(np.square(Rho) + np.square(Z))\n",
    "Dist2 = np.sqrt(np.square(Rho) + np.square(Z - 3.0))"
   ]
  },
  {
   "cell_type": "code",
   "execution_count": 6,
   "metadata": {},
   "outputs": [
    {
     "data": {
      "text/plain": [
       "<matplotlib.image.AxesImage at 0x7fc5abb18b00>"
      ]
     },
     "execution_count": 6,
     "metadata": {},
     "output_type": "execute_result"
    },
    {
     "data": {
      "image/png": "[encoded data removed]",
      "text/plain": [
       "<Figure size 432x288 with 1 Axes>"
      ]
     },
     "metadata": {},
     "output_type": "display_data"
    }
   ],
   "source": [
    "figg ,axx = plt.subplots()\n",
    "axx.imshow((Dist1 < 1.0) | (Dist2 < 0.8))"
   ]
  },
  {
   "cell_type": "markdown",
   "metadata": {},
   "source": [
    "# Construct a boundary condition array"
   ]
  },
  {
   "cell_type": "code",
   "execution_count": 7,
   "metadata": {},
   "outputs": [],
   "source": [
    "bd_cond = np.ma.array(np.full(grid_shape, -1e10, dtype=float), mask=True)\n",
    "\n",
    "bd_cond.mask[:,[0,-1]] = False\n",
    "bd_cond.mask[-1,:] = False\n",
    "if rho_arr[0] > 0: bd_cond.mask[0,:] = False\n",
    "bd_cond.mask[Dist1 < 1.0] = False\n",
    "bd_cond.mask[Dist2 < 0.7] = False\n",
    "\n",
    "bd_cond[:,[0,-1]] = 0.0\n",
    "bd_cond[-1,:] = 0.0\n",
    "bd_cond[Dist1 < 1.0] = 1.0\n",
    "bd_cond[Dist2 < 0.7] = 1.0"
   ]
  },
  {
   "cell_type": "code",
   "execution_count": 8,
   "metadata": {},
   "outputs": [],
   "source": [
    "V = np.empty(bd_cond.shape, dtype=float)\n",
    "V[:] = np.random.rand(*bd_cond.shape)\n",
    "V[~bd_cond.mask] = bd_cond[~bd_cond.mask]"
   ]
  },
  {
   "cell_type": "markdown",
   "metadata": {},
   "source": [
    "# Auto stop by checking convergence"
   ]
  },
  {
   "cell_type": "code",
   "execution_count": 9,
   "metadata": {},
   "outputs": [],
   "source": [
    "c1 = 1.0 / (4.0 / drho**2 + 2.0 / dz**2)\n",
    "c2 = 1.0 / (2.0/drho**2 + 2.0/dz**2)\n",
    "\n",
    "\n",
    "for _ in range(100):\n",
    "    \n",
    "    V[0,1:-1] = c1 * (\n",
    "        4.0 / drho**2 * V[1,1:-1]\n",
    "        + 1.0 / dz**2 * (V[0,2:] + V[0,:-2])\n",
    "    )\n",
    "\n",
    "    V[1:-1,1:-1] = c2 * (\n",
    "        1.0/drho**2 * (V[2:,1:-1] + V[:-2,1:-1]) \n",
    "        + (1.0/2.0/drho /rho_arr[1:-1] * (V[2:,1:-1] - V[:-2,1:-1]).transpose()).transpose()\n",
    "        + 1.0/dz**2 * (V[1:-1,2:] + V[1:-1,:-2])\n",
    "    )\n",
    "    \n",
    "    V[~bd_cond.mask] = bd_cond[~bd_cond.mask]"
   ]
  },
  {
   "cell_type": "markdown",
   "metadata": {},
   "source": [
    "# Eval and Draw E field line"
   ]
  },
  {
   "cell_type": "markdown",
   "metadata": {},
   "source": [
    "# Get normal E (.. well, there would only left normal component though) and eval charge dist."
   ]
  },
  {
   "cell_type": "code",
   "execution_count": 10,
   "metadata": {},
   "outputs": [
    {
     "data": {
      "image/png": "[encoded data removed]",
      "text/plain": [
       "<Figure size 432x288 with 2 Axes>"
      ]
     },
     "metadata": {},
     "output_type": "display_data"
    }
   ],
   "source": [
    "fig, ax = plt.subplots()\n",
    "img = ax.imshow(V.transpose(), origin='lower', extent=(rho_min,rho_max,z_min,z_max), cmap='jet', vmax=1.1)\n",
    "cb = fig.colorbar(img, ax=ax)"
   ]
  },
  {
   "cell_type": "code",
   "execution_count": 11,
   "metadata": {},
   "outputs": [],
   "source": [
    "# fig.savefig(\"laplace-cylin-two-sphere-test-6.png\")"
   ]
  }
 ],
 "metadata": {
  "kernelspec": {
   "display_name": "Python 3",
   "language": "python",
   "name": "python3"
  },
  "language_info": {
   "codemirror_mode": {
    "name": "ipython",
    "version": 3
   },
   "file_extension": ".py",
   "mimetype": "text/x-python",
   "name": "python",
   "nbconvert_exporter": "python",
   "pygments_lexer": "ipython3",
   "version": "3.6.0"
  }
 },
 "nbformat": 4,
 "nbformat_minor": 2
}
