{
 "cells": [
  {
   "cell_type": "code",
   "execution_count": 37,
   "metadata": {},
   "outputs": [],
   "source": [
    "import numpy as np\n",
    "from numpy import sqrt\n",
    "import matplotlib.pyplot as plt"
   ]
  },
  {
   "cell_type": "markdown",
   "metadata": {},
   "source": [
    "# Define spatial grid"
   ]
  },
  {
   "cell_type": "code",
   "execution_count": 2,
   "metadata": {},
   "outputs": [],
   "source": [
    "rho_min, rho_max, min_delta_rho = 0.0, 5.0, 0.2\n",
    "z_min, z_max, min_delta_z = -3.0, 6.0, 0.2"
   ]
  },
  {
   "cell_type": "code",
   "execution_count": 3,
   "metadata": {},
   "outputs": [],
   "source": [
    "assert (rho_min >= 0) and (rho_min < rho_max)\n",
    "assert (z_min < z_max)\n",
    "\n",
    "def get_N_grid(xmin, xmax, min_delta_x): \n",
    "    return int((xmax-xmin+min_delta_x)/min_delta_x) + 1\n",
    "\n",
    "N_rho = get_N_grid(rho_min, rho_max, min_delta_rho)\n",
    "rho_arr = np.linspace(rho_min, rho_max, N_rho)\n",
    "delta_rho = rho_arr[1] - rho_arr[0]\n",
    "\n",
    "N_z = get_N_grid(z_min, z_max, min_delta_z)\n",
    "z_arr = np.linspace(z_min, z_max, N_z)\n",
    "delta_z = z_arr[1] - z_arr[0]\n",
    "\n",
    "drho, dz = delta_rho, delta_z  # aliasing\n",
    "\n",
    "grid_shape = (N_rho, N_z)"
   ]
  },
  {
   "cell_type": "markdown",
   "metadata": {},
   "source": [
    "## Define 2D meshgrid"
   ]
  },
  {
   "cell_type": "code",
   "execution_count": 4,
   "metadata": {},
   "outputs": [],
   "source": [
    "Rho, Z = np.meshgrid(rho_arr, z_arr, indexing='ij')"
   ]
  },
  {
   "cell_type": "markdown",
   "metadata": {},
   "source": [
    "# Construct a boundary condition array"
   ]
  },
  {
   "cell_type": "markdown",
   "metadata": {},
   "source": [
    "## Define a conductor"
   ]
  },
  {
   "cell_type": "code",
   "execution_count": 5,
   "metadata": {},
   "outputs": [],
   "source": [
    "l = 2.0\n",
    "z_c = 0.0\n",
    "R = 1.5\n",
    "V0 = 1.0\n",
    "assert z_min < z_c - l/2 and z_c + l/2 < z_max"
   ]
  },
  {
   "cell_type": "code",
   "execution_count": 6,
   "metadata": {},
   "outputs": [],
   "source": [
    "assert rho_min == 0  # so that it can be a cylinder\n",
    "s1 = [(rho, z_c+l/2) for rho in np.linspace(0, R, 5)]\n",
    "# [1:-1] for excluding end points since they have already been included\n",
    "s2 = [(R, z) for z in np.linspace(z_c-l/2,z_c+l/2, 6)[1:-1]]\n",
    "s3 = [(rho, z_c-l/2) for rho in np.linspace(0, R, 5)]\n",
    "\n",
    "surf_points = np.array([*s1, *s2, *s3])"
   ]
  },
  {
   "cell_type": "code",
   "execution_count": 32,
   "metadata": {},
   "outputs": [],
   "source": [
    "# figsu, axsu = plt.subplots()\n",
    "# axsu.plot(surf_points[:,0], surf_points[:,1],'.')\n",
    "# axsu.set_aspect(1.0)\n",
    "\n",
    "# figsu.savefig(\"surface-points-cylinder-test-0.png\")"
   ]
  },
  {
   "cell_type": "markdown",
   "metadata": {},
   "source": [
    "# [assumption] each conductors should be separated a bit - in order to prevent some numerical artifacts due to possible discontinuity"
   ]
  },
  {
   "cell_type": "code",
   "execution_count": 28,
   "metadata": {},
   "outputs": [],
   "source": [
    "bd_cond = np.ma.array(np.full(grid_shape, -1e10, dtype=float), mask=True)\n",
    "\n",
    "# Bounding box\n",
    "bd_cond.mask[:,[0,-1]] = False\n",
    "bd_cond[:,[0,-1]] = 0.0\n",
    "\n",
    "bd_cond.mask[-1,:] = False\n",
    "bd_cond[-1,:] = 0.0\n",
    "\n",
    "if rho_arr[0] > 0: \n",
    "    bd_cond.mask[0,:] = False\n",
    "    bd_cond[0,:] = 0.0\n",
    "\n",
    "# a cylinder\n",
    "cy_mask = (Rho <= R) & ((z_c-l/2) <= Z) & (Z <= (z_c+l/2))\n",
    "bd_cond.mask[cy_mask] = False\n",
    "bd_cond[cy_mask] = V0"
   ]
  },
  {
   "cell_type": "code",
   "execution_count": 91,
   "metadata": {},
   "outputs": [],
   "source": [
    "V = np.empty(bd_cond.shape, dtype=float)\n",
    "V[:] = np.random.rand(*bd_cond.shape)\n",
    "V[~bd_cond.mask] = bd_cond[~bd_cond.mask]"
   ]
  },
  {
   "cell_type": "code",
   "execution_count": 106,
   "metadata": {},
   "outputs": [],
   "source": [
    "N_near_point = 6\n",
    "near_point_arr = np.empty((surf_points.shape[0], N_near_point, 2))\n",
    "near_point_V_arr = np.empty((surf_points.shape[0], N_near_point), dtype=float)\n",
    "for pt_idx, (rho,z) in enumerate(surf_points):\n",
    "    Dist = sqrt(np.square(Rho-rho)+np.square(Z-z))\n",
    "    indice = np.argpartition(Dist[bd_cond.mask].flatten(), N_near_point)[:N_near_point]\n",
    "    near_point_arr[pt_idx,:,0] = Rho[bd_cond.mask].flatten()[indice]\n",
    "    near_point_arr[pt_idx,:,1] = Z[bd_cond.mask].flatten()[indice]\n",
    "    \n",
    "    near_point_V_arr[pt_idx,:] = V[bd_cond.mask].flatten()[indice]"
   ]
  },
  {
   "cell_type": "code",
   "execution_count": 144,
   "metadata": {},
   "outputs": [
    {
     "data": {
      "text/plain": [
       "array([[1.        , 0.19230769, 0.2       , 0.01849112, 0.03846154,\n",
       "        0.02      ],\n",
       "       [1.        , 0.        , 0.2       , 0.        , 0.        ,\n",
       "        0.02      ],\n",
       "       [1.        , 0.        , 0.4       , 0.        , 0.        ,\n",
       "        0.08      ],\n",
       "       [1.        , 0.38461538, 0.2       , 0.0739645 , 0.07692308,\n",
       "        0.02      ],\n",
       "       [1.        , 0.19230769, 0.4       , 0.01849112, 0.07692308,\n",
       "        0.08      ],\n",
       "       [1.        , 0.38461538, 0.4       , 0.0739645 , 0.15384615,\n",
       "        0.08      ]])"
      ]
     },
     "execution_count": 144,
     "metadata": {},
     "output_type": "execute_result"
    }
   ],
   "source": [
    "A"
   ]
  },
  {
   "cell_type": "code",
   "execution_count": 155,
   "metadata": {},
   "outputs": [],
   "source": [
    "A, _ = np.meshgrid(aa,aa)"
   ]
  },
  {
   "cell_type": "code",
   "execution_count": 146,
   "metadata": {},
   "outputs": [
    {
     "data": {
      "text/plain": [
       "array([1.        , 0.        , 0.4       , 0.0739645 , 0.07692308])"
      ]
     },
     "execution_count": 146,
     "metadata": {},
     "output_type": "execute_result"
    }
   ],
   "source": [
    "A[_ind,_ind]"
   ]
  },
  {
   "cell_type": "code",
   "execution_count": 161,
   "metadata": {},
   "outputs": [],
   "source": [
    "aa, = np.where(_ind)"
   ]
  },
  {
   "cell_type": "code",
   "execution_count": 167,
   "metadata": {},
   "outputs": [
    {
     "data": {
      "text/plain": [
       "array([[1.        , 0.19230769, 0.2       , 0.02      ],\n",
       "       [1.        , 0.        , 0.2       , 0.02      ],\n",
       "       [1.        , 0.        , 0.4       , 0.08      ],\n",
       "       [1.        , 0.38461538, 0.4       , 0.08      ]])"
      ]
     },
     "execution_count": 167,
     "metadata": {},
     "output_type": "execute_result"
    }
   ],
   "source": [
    "A[[0,1,2,5]][:,[0,1,2,5]]"
   ]
  },
  {
   "cell_type": "code",
   "execution_count": 163,
   "metadata": {},
   "outputs": [
    {
     "data": {
      "text/plain": [
       "array([[1.        , 0.38461538, 0.2       , 0.0739645 , 0.07692308,\n",
       "        0.02      ],\n",
       "       [1.        , 0.19230769, 0.4       , 0.01849112, 0.07692308,\n",
       "        0.08      ]])"
      ]
     },
     "execution_count": 163,
     "metadata": {},
     "output_type": "execute_result"
    }
   ],
   "source": [
    "np.delete(np.delete(A, [0,1,2,5], axis=0))"
   ]
  },
  {
   "cell_type": "code",
   "execution_count": 174,
   "metadata": {},
   "outputs": [
    {
     "name": "stdout",
     "output_type": "stream",
     "text": [
      "-5.470746822590264e-05\n",
      "0.0\n",
      "[[ 1.00000000e+00  2.01923077e-01  2.00000000e-01  2.03864645e-02\n",
      "   4.03846154e-02  2.00000000e-02]\n",
      " [ 1.00000000e+00 -1.82692308e-01  2.00000000e-01  1.66882396e-02\n",
      "  -3.65384615e-02  2.00000000e-02]\n",
      " [ 1.00000000e+00  9.61538462e-03  2.00000000e-01  4.62278107e-05\n",
      "   1.92307692e-03  2.00000000e-02]\n",
      " [ 1.00000000e+00  9.61538462e-03  4.00000000e-01  4.62278107e-05\n",
      "   3.84615385e-03  8.00000000e-02]\n",
      " [ 1.00000000e+00 -3.75000000e-01  2.00000000e-01  7.03125000e-02\n",
      "  -7.50000000e-02  2.00000000e-02]\n",
      " [ 1.00000000e+00 -1.82692308e-01  4.00000000e-01  1.66882396e-02\n",
      "  -7.30769231e-02  8.00000000e-02]]\n",
      "[0 1 2 3 4 5]\n",
      "[[-1.04077829e+00 -9.63101207e-01 -1.00157755e+00 -1.04123793e+00\n",
      "  -9.25349260e-01 -1.00126919e+00]\n",
      " [ 0.00000000e+00  3.84481600e-01  1.92345486e-01  1.99973351e-01\n",
      "   5.76408343e-01  3.99502940e-01]\n",
      " [ 0.00000000e+00  0.00000000e+00 -1.84872802e-02 -1.92211043e-02\n",
      "   5.54618406e-02 -6.62719214e-04]\n",
      " [ 0.00000000e+00  0.00000000e+00  0.00000000e+00 -2.04870763e-01\n",
      "  -5.96471458e-18 -2.04523619e-01]\n",
      " [ 0.00000000e+00  0.00000000e+00  0.00000000e+00  0.00000000e+00\n",
      "  -2.81564028e-17  3.70666226e-02]\n",
      " [ 0.00000000e+00  0.00000000e+00  0.00000000e+00  0.00000000e+00\n",
      "   0.00000000e+00 -6.95263652e-03]]\n"
     ]
    },
    {
     "ename": "Exception",
     "evalue": "Failed to evaluate V, dxV, dyV",
     "output_type": "error",
     "traceback": [
      "\u001b[0;31m---------------------------------------------------------------------------\u001b[0m",
      "\u001b[0;31mLinAlgError\u001b[0m                               Traceback (most recent call last)",
      "\u001b[0;32m<ipython-input-174-294672635853>\u001b[0m in \u001b[0;36m<module>\u001b[0;34m()\u001b[0m\n\u001b[1;32m     20\u001b[0m     \u001b[0;32mtry\u001b[0m\u001b[0;34m:\u001b[0m\u001b[0;34m\u001b[0m\u001b[0m\n\u001b[0;32m---> 21\u001b[0;31m         \u001b[0mnp\u001b[0m\u001b[0;34m.\u001b[0m\u001b[0mlinalg\u001b[0m\u001b[0;34m.\u001b[0m\u001b[0msolve\u001b[0m\u001b[0;34m(\u001b[0m\u001b[0mAA\u001b[0m\u001b[0;34m,\u001b[0m\u001b[0mbb\u001b[0m\u001b[0;34m)\u001b[0m\u001b[0;34m\u001b[0m\u001b[0m\n\u001b[0m\u001b[1;32m     22\u001b[0m     \u001b[0;32mexcept\u001b[0m\u001b[0;34m:\u001b[0m\u001b[0;34m\u001b[0m\u001b[0m\n",
      "\u001b[0;32m<__array_function__ internals>\u001b[0m in \u001b[0;36msolve\u001b[0;34m(*args, **kwargs)\u001b[0m\n",
      "\u001b[0;32m~/py/venv/sci/lib/python3.6/site-packages/numpy/linalg/linalg.py\u001b[0m in \u001b[0;36msolve\u001b[0;34m(a, b)\u001b[0m\n\u001b[1;32m    402\u001b[0m     \u001b[0mextobj\u001b[0m \u001b[0;34m=\u001b[0m \u001b[0mget_linalg_error_extobj\u001b[0m\u001b[0;34m(\u001b[0m\u001b[0m_raise_linalgerror_singular\u001b[0m\u001b[0;34m)\u001b[0m\u001b[0;34m\u001b[0m\u001b[0m\n\u001b[0;32m--> 403\u001b[0;31m     \u001b[0mr\u001b[0m \u001b[0;34m=\u001b[0m \u001b[0mgufunc\u001b[0m\u001b[0;34m(\u001b[0m\u001b[0ma\u001b[0m\u001b[0;34m,\u001b[0m \u001b[0mb\u001b[0m\u001b[0;34m,\u001b[0m \u001b[0msignature\u001b[0m\u001b[0;34m=\u001b[0m\u001b[0msignature\u001b[0m\u001b[0;34m,\u001b[0m \u001b[0mextobj\u001b[0m\u001b[0;34m=\u001b[0m\u001b[0mextobj\u001b[0m\u001b[0;34m)\u001b[0m\u001b[0;34m\u001b[0m\u001b[0m\n\u001b[0m\u001b[1;32m    404\u001b[0m \u001b[0;34m\u001b[0m\u001b[0m\n",
      "\u001b[0;32m~/py/venv/sci/lib/python3.6/site-packages/numpy/linalg/linalg.py\u001b[0m in \u001b[0;36m_raise_linalgerror_singular\u001b[0;34m(err, flag)\u001b[0m\n\u001b[1;32m     96\u001b[0m \u001b[0;32mdef\u001b[0m \u001b[0m_raise_linalgerror_singular\u001b[0m\u001b[0;34m(\u001b[0m\u001b[0merr\u001b[0m\u001b[0;34m,\u001b[0m \u001b[0mflag\u001b[0m\u001b[0;34m)\u001b[0m\u001b[0;34m:\u001b[0m\u001b[0;34m\u001b[0m\u001b[0m\n\u001b[0;32m---> 97\u001b[0;31m     \u001b[0;32mraise\u001b[0m \u001b[0mLinAlgError\u001b[0m\u001b[0;34m(\u001b[0m\u001b[0;34m\"Singular matrix\"\u001b[0m\u001b[0;34m)\u001b[0m\u001b[0;34m\u001b[0m\u001b[0m\n\u001b[0m\u001b[1;32m     98\u001b[0m \u001b[0;34m\u001b[0m\u001b[0m\n",
      "\u001b[0;31mLinAlgError\u001b[0m: Singular matrix",
      "\nDuring handling of the above exception, another exception occurred:\n",
      "\u001b[0;31mException\u001b[0m                                 Traceback (most recent call last)",
      "\u001b[0;32m<ipython-input-174-294672635853>\u001b[0m in \u001b[0;36m<module>\u001b[0;34m()\u001b[0m\n\u001b[1;32m     24\u001b[0m         \u001b[0mprint\u001b[0m\u001b[0;34m(\u001b[0m\u001b[0m_ind\u001b[0m\u001b[0;34m)\u001b[0m\u001b[0;34m\u001b[0m\u001b[0m\n\u001b[1;32m     25\u001b[0m         \u001b[0mprint\u001b[0m\u001b[0;34m(\u001b[0m\u001b[0mR\u001b[0m\u001b[0;34m)\u001b[0m\u001b[0;34m\u001b[0m\u001b[0m\n\u001b[0;32m---> 26\u001b[0;31m         \u001b[0;32mraise\u001b[0m \u001b[0mException\u001b[0m\u001b[0;34m(\u001b[0m\u001b[0;34m\"Failed to evaluate V, dxV, dyV\"\u001b[0m\u001b[0;34m)\u001b[0m\u001b[0;34m\u001b[0m\u001b[0m\n\u001b[0m\u001b[1;32m     27\u001b[0m \u001b[0;34m\u001b[0m\u001b[0m\n\u001b[1;32m     28\u001b[0m \u001b[0;31m#     for (rho, z) in near_point_arr[i]:\u001b[0m\u001b[0;34m\u001b[0m\u001b[0;34m\u001b[0m\u001b[0m\n",
      "\u001b[0;31mException\u001b[0m: Failed to evaluate V, dxV, dyV"
     ]
    }
   ],
   "source": [
    "for i in range(surf_points.shape[0]):\n",
    "    rho_s, z_s = surf_points[i]\n",
    "    \n",
    "    A = np.empty((N_near_point, N_near_point))\n",
    "    A[:,0] = 1.0\n",
    "    A[:,1] = near_point_arr[i,:,0] - rho_s\n",
    "    A[:,2] = near_point_arr[i,:,1] - z_s\n",
    "    A[:,3] = 0.5 * np.square(near_point_arr[i,:,0] - rho_s)\n",
    "    A[:,4] = (near_point_arr[i,:,0] - rho_s) * (near_point_arr[i,:,1] - z_s)\n",
    "    A[:,5] = 0.5 * np.square(near_point_arr[i,:,1] - z_s)\n",
    "    \n",
    "    Q, R = np.linalg.qr(A.transpose())\n",
    "    _ind, = np.where(~(np.abs(R) < 1e-15).all(axis=1))\n",
    "    AA = A[_ind][:,_ind]\n",
    "    bb = near_point_V_arr[i][_ind]\n",
    "#     N_indep = np.sum()\n",
    "    \n",
    "    print(np.linalg.det(AA))\n",
    "    \n",
    "    try:\n",
    "        np.linalg.solve(AA,bb)\n",
    "    except: \n",
    "        print(AA)\n",
    "        print(_ind)\n",
    "        print(R)\n",
    "        raise Exception(\"Failed to evaluate V, dxV, dyV\")\n",
    "    \n",
    "#     for (rho, z) in near_point_arr[i]:"
   ]
  },
  {
   "cell_type": "code",
   "execution_count": 134,
   "metadata": {},
   "outputs": [],
   "source": [
    "Q, R = np.linalg.qr(A)"
   ]
  },
  {
   "cell_type": "code",
   "execution_count": 135,
   "metadata": {},
   "outputs": [
    {
     "data": {
      "text/plain": [
       "array([False, False, False, False, False,  True])"
      ]
     },
     "execution_count": 135,
     "metadata": {},
     "output_type": "execute_result"
    }
   ],
   "source": [
    "(np.abs(R) < 1e-15).all(axis=1)"
   ]
  },
  {
   "cell_type": "code",
   "execution_count": 136,
   "metadata": {},
   "outputs": [
    {
     "data": {
      "text/plain": [
       "array([[-2.44948974e+00, -4.71055720e-01, -7.34846923e-01,\n",
       "        -7.54896987e-02, -1.41316716e-01, -1.22474487e-01],\n",
       "       [ 0.00000000e+00,  3.84615385e-01, -2.77555756e-17,\n",
       "         7.39644970e-02,  1.15384615e-01, -6.93889390e-18],\n",
       "       [ 0.00000000e+00,  0.00000000e+00, -2.44948974e-01,\n",
       "         1.04083409e-17, -4.71055720e-02, -7.34846923e-02],\n",
       "       [ 0.00000000e+00,  0.00000000e+00,  0.00000000e+00,\n",
       "        -2.13517111e-02, -2.77555756e-17, -2.74000087e-17],\n",
       "       [ 0.00000000e+00,  0.00000000e+00,  0.00000000e+00,\n",
       "         0.00000000e+00, -3.84615385e-02,  3.86931929e-18],\n",
       "       [ 0.00000000e+00,  0.00000000e+00,  0.00000000e+00,\n",
       "         0.00000000e+00,  0.00000000e+00, -2.60521660e-17]])"
      ]
     },
     "execution_count": 136,
     "metadata": {},
     "output_type": "execute_result"
    }
   ],
   "source": [
    "R"
   ]
  },
  {
   "cell_type": "code",
   "execution_count": 119,
   "metadata": {},
   "outputs": [
    {
     "data": {
      "text/plain": [
       "-5.470746822590264e-05"
      ]
     },
     "execution_count": 119,
     "metadata": {},
     "output_type": "execute_result"
    }
   ],
   "source": [
    "np.linalg.det(A[:-1,:-1])"
   ]
  },
  {
   "cell_type": "code",
   "execution_count": 120,
   "metadata": {},
   "outputs": [
    {
     "data": {
      "text/plain": [
       "0.0"
      ]
     },
     "execution_count": 120,
     "metadata": {},
     "output_type": "execute_result"
    }
   ],
   "source": [
    "np.linalg.det(A)"
   ]
  },
  {
   "cell_type": "code",
   "execution_count": 93,
   "metadata": {},
   "outputs": [
    {
     "data": {
      "image/png": "[encoded data removed]",
      "text/plain": [
       "<Figure size 432x576 with 1 Axes>"
      ]
     },
     "metadata": {},
     "output_type": "display_data"
    }
   ],
   "source": [
    "from vis.plot import construct_catesian_mesh_for_pcolormesh\n",
    "Rho_mesh, Z_mesh = construct_catesian_mesh_for_pcolormesh(rho_arr, z_arr)\n",
    "\n",
    "figg ,axx = plt.subplots(figsize=(6,8))\n",
    "axx.pcolormesh(Rho_mesh, Z_mesh, bd_cond.mask)\n",
    "axx.set_aspect(1.0)\n",
    "axx.plot(surf_points[:,0], surf_points[:,1],'.')\n",
    "# axx.imshow(bd_cond.mask)\n",
    "\n",
    "for i in range(surf_points.shape[0]):\n",
    "    for (rho, z) in near_point_arr[i]:\n",
    "        axx.plot(rho,z,'.',color='black')\n",
    "\n",
    "# figg.savefig(\"mask-with-surf-and-near-points-test-0.png\")"
   ]
  },
  {
   "cell_type": "markdown",
   "metadata": {},
   "source": [
    "# Get normal E (.. well, there would only left normal component though) and eval charge dist."
   ]
  },
  {
   "cell_type": "markdown",
   "metadata": {},
   "source": [
    "# Auto stop by checking convergence"
   ]
  },
  {
   "cell_type": "code",
   "execution_count": 34,
   "metadata": {},
   "outputs": [],
   "source": [
    "c1 = 1.0 / (4.0 / drho**2 + 2.0 / dz**2)\n",
    "c2 = 1.0 / (2.0/drho**2 + 2.0/dz**2)\n",
    "\n",
    "\n",
    "for _ in range(100):\n",
    "    \n",
    "    V[0,1:-1] = c1 * (\n",
    "        4.0 / drho**2 * V[1,1:-1]\n",
    "        + 1.0 / dz**2 * (V[0,2:] + V[0,:-2])\n",
    "    )\n",
    "\n",
    "    V[1:-1,1:-1] = c2 * (\n",
    "        1.0/drho**2 * (V[2:,1:-1] + V[:-2,1:-1]) \n",
    "        + (1.0/2.0/drho /rho_arr[1:-1] * (V[2:,1:-1] - V[:-2,1:-1]).transpose()).transpose()\n",
    "        + 1.0/dz**2 * (V[1:-1,2:] + V[1:-1,:-2])\n",
    "    )\n",
    "    \n",
    "    V[~bd_cond.mask] = bd_cond[~bd_cond.mask]"
   ]
  },
  {
   "cell_type": "markdown",
   "metadata": {},
   "source": [
    "# Eval and Draw E field line"
   ]
  },
  {
   "cell_type": "code",
   "execution_count": 35,
   "metadata": {},
   "outputs": [
    {
     "data": {
      "image/png": "[encoded data removed]",
      "text/plain": [
       "<Figure size 432x288 with 2 Axes>"
      ]
     },
     "metadata": {},
     "output_type": "display_data"
    }
   ],
   "source": [
    "fig, ax = plt.subplots()\n",
    "img = ax.imshow(V.transpose(), origin='lower', extent=(rho_min,rho_max,z_min,z_max), cmap='jet', vmax=1.1)\n",
    "cb = fig.colorbar(img, ax=ax)"
   ]
  },
  {
   "cell_type": "code",
   "execution_count": 42,
   "metadata": {},
   "outputs": [
    {
     "data": {
      "text/plain": [
       "[<matplotlib.lines.Line2D at 0x7f0043080198>]"
      ]
     },
     "execution_count": 42,
     "metadata": {},
     "output_type": "execute_result"
    },
    {
     "data": {
      "image/png": "[encoded data removed]",
      "text/plain": [
       "<Figure size 432x288 with 1 Axes>"
      ]
     },
     "metadata": {},
     "output_type": "display_data"
    }
   ],
   "source": [
    "figs, axs = plt.subplots()\n",
    "axs.plot(z_arr, V[4], '.-')"
   ]
  },
  {
   "cell_type": "code",
   "execution_count": 37,
   "metadata": {},
   "outputs": [
    {
     "name": "stdout",
     "output_type": "stream",
     "text": [
      "single-cylinder-V0=1.000-test-0.png\n"
     ]
    }
   ],
   "source": [
    "fig_filename = \"single-cylinder-V0={:.3f}-test-0.png\".format(V0)\n",
    "print(fig_filename)\n",
    "# fig.savefig(fig_filename)"
   ]
  }
 ],
 "metadata": {
  "kernelspec": {
   "display_name": "Python 3",
   "language": "python",
   "name": "python3"
  },
  "language_info": {
   "codemirror_mode": {
    "name": "ipython",
    "version": 3
   },
   "file_extension": ".py",
   "mimetype": "text/x-python",
   "name": "python",
   "nbconvert_exporter": "python",
   "pygments_lexer": "ipython3",
   "version": "3.6.0"
  }
 },
 "nbformat": 4,
 "nbformat_minor": 2
}
