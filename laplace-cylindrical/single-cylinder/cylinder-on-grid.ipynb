{
 "cells": [
  {
   "cell_type": "code",
   "execution_count": 1,
   "metadata": {},
   "outputs": [],
   "source": [
    "import numpy as np\n",
    "from numpy import sqrt, pi\n",
    "import matplotlib.pyplot as plt\n",
    "\n",
    "from numpy import cos, sin\n",
    "\n",
    "from matplotlib.colors import Normalize\n",
    "from matplotlib import cm"
   ]
  },
  {
   "cell_type": "markdown",
   "metadata": {},
   "source": [
    "# Part 0 :: Define Objects"
   ]
  },
  {
   "cell_type": "markdown",
   "metadata": {},
   "source": [
    "## Implement `ConductingCylinderOnGrid`"
   ]
  },
  {
   "cell_type": "code",
   "execution_count": 2,
   "metadata": {},
   "outputs": [],
   "source": [
    "from numbers import Integral\n",
    "from numpy import pi, cos, sin\n",
    "from matplotlib import cm\n",
    "from mpl_toolkits.mplot3d import Axes3D\n",
    "\n",
    "class ConductingCylinderOnGrid(object):\n",
    "    \n",
    "    def __init__(self, rho_arr, z_arr, R_ind, zd_ind, zu_ind, V0):\n",
    "        \n",
    "        ## Check arguments and set them members\n",
    "        for _arg in (rho_arr, z_arr):\n",
    "            assert isinstance(_arg, np.ndarray)\n",
    "            assert _arg.ndim == 1\n",
    "            assert np.diff(_arg).std() < 1e-15\n",
    "        assert rho_arr[0] == 0\n",
    "        for _arg in (R_ind, zd_ind, zu_ind): \n",
    "            assert isinstance(_arg, Integral)\n",
    "        for z_ind in (zd_ind, zu_ind): \n",
    "            assert z_ind in range(-z_arr.size, z_arr.size)\n",
    "        assert R_ind in range(-rho_arr.size, rho_arr.size)\n",
    "        \n",
    "        self.rho_arr, self.z_arr = rho_arr, z_arr\n",
    "        self.drho, self.dz = rho_arr[1]-rho_arr[0], z_arr[1]-z_arr[0]\n",
    "        self.R_ind, self.zd_ind, self.zu_ind = R_ind, zd_ind, zu_ind\n",
    "        self.R = self.rho_arr[R_ind]\n",
    "        self.zd, self.zu = self.z_arr[[zd_ind, zu_ind]]\n",
    "        self.V0 = V0\n",
    "        \n",
    "        ## Construct surface points indice\n",
    "        self.s1_ind = [(rho_ind, self.zu_ind) \n",
    "                       for rho_ind in range(self.R_ind+1)]\n",
    "        self.s2_ind = [(self.R_ind, z_ind) \n",
    "                       for z_ind in range(self.zd_ind,self.zu_ind+1)]\n",
    "        self.s3_ind = [(rho_ind, self.zd_ind) \n",
    "                       for rho_ind in range(self.R_ind+1)]    \n",
    "        \n",
    "        ## Construct surface coordinate arrays\n",
    "        self.s1_rho_arr = self.rho_arr[np.array(self.s1_ind)[:,0]]\n",
    "        self.s2_z_arr = self.z_arr[np.array(self.s2_ind)[:,1]]\n",
    "        self.s3_rho_arr = self.rho_arr[np.array(self.s3_ind)[:,0]]\n",
    "        \n",
    "        ## Construct a mask\n",
    "        _Rho, _Z = np.meshgrid(self.rho_arr, self.z_arr, indexing='ij')\n",
    "        self.mask = (_Rho<=self.R) & (self.zd<=_Z) & (_Z<=self.zu)\n",
    "        \n",
    "        \n",
    "    def eval_surf_charge_density(self, V):\n",
    "        \"\"\"Evaluate charge density in atomic unit\"\"\"\n",
    "        assert isinstance(V, np.ndarray)\n",
    "        assert V.shape == (self.rho_arr.size, self.z_arr.size)\n",
    "        _epsil0 = 1.0 / (4*pi)\n",
    "        _s1_sigma = np.array(\n",
    "            [_epsil0 * -(V[rho_ind,z_ind+1]-V[rho_ind,z_ind]) / self.dz \n",
    "             for (rho_ind, z_ind) in self.s1_ind])\n",
    "        _s2_sigma = np.array(\n",
    "            [_epsil0 * -(V[rho_ind+1,z_ind]-V[rho_ind,z_ind]) / self.drho \n",
    "             for (rho_ind, z_ind) in self.s2_ind])\n",
    "        _s3_sigma = np.array(\n",
    "            [_epsil0 * (V[rho_ind,z_ind]-V[rho_ind,z_ind-1]) / self.dz \n",
    "             for (rho_ind, z_ind) in self.s3_ind])\n",
    "        return _s1_sigma, _s2_sigma, _s3_sigma\n",
    "    \n",
    "    \n",
    "    def get_total_charge(self, V):\n",
    "        \n",
    "        _s1_sigma,_s2_sigma,_s3_sigma = self.eval_surf_charge_density(V)\n",
    "        \n",
    "        _s1_rho_mul_sigma = self.s1_rho_arr * _s1_sigma\n",
    "        _Q_s1 = 2*pi*np.sum(\n",
    "            0.5 * (_s1_rho_mul_sigma[:-1] + _s1_rho_mul_sigma[1:])\n",
    "            * np.diff(self.s1_rho_arr))\n",
    "\n",
    "        _s3_rho_mul_sigma = self.s3_rho_arr * _s3_sigma\n",
    "        _Q_s3 = 2*pi*np.sum(\n",
    "            0.5 * (_s3_rho_mul_sigma[:-1] + _s3_rho_mul_sigma[1:]) \n",
    "            * np.diff(self.s3_rho_arr))\n",
    "\n",
    "        _Q_s2 = 2*pi*self.R * np.sum(\n",
    "            0.5 * (_s2_sigma[:-1] + _s2_sigma[1:]) \n",
    "            * np.diff(self.s2_z_arr))\n",
    "\n",
    "        _Q_total = _Q_s1 + _Q_s2 + _Q_s3\n",
    "        return _Q_total\n",
    "\n",
    "    \n",
    "    def show_charge_density_3D(self, V, ax, nphi=51):\n",
    "        \n",
    "        assert isinstance(ax3, Axes3D)\n",
    "        \n",
    "        _s1_sigma,_s2_sigma,_s3_sigma = self.eval_surf_charge_density(V)\n",
    "\n",
    "        _sigma = np.array([*_s1_sigma, *_s2_sigma, *_s3_sigma])\n",
    "        _ch_max, _ch_min = _sigma.max(), _sigma.min()\n",
    "        _vmin, _vmax = _ch_min, _ch_max\n",
    "        _norm = Normalize(_vmin, _vmax, clip=True)\n",
    "        _ch_cm = cm.jet\n",
    "        \n",
    "        ## Construct 3D mesh \n",
    "        _phi_arr = np.linspace(0, 2*pi, nphi)\n",
    "        \n",
    "        # for Surface 1 (upper disk)\n",
    "        _s1_3d_rho_grid = np.empty((self.s1_rho_arr.size+1,))\n",
    "        _s1_3d_rho_grid[1:-1]=0.5*(self.s1_rho_arr[:-1]+self.s1_rho_arr[1:])\n",
    "        _s1_3d_rho_grid[0] = 0.0\n",
    "        _s1_3d_rho_grid[-1] = self.R\n",
    "        \n",
    "        _S1_3D_Rho_Grid,_S1_3D_Phi_Grid=np.meshgrid(_s1_3d_rho_grid,_phi_arr)\n",
    "        _S1_3D_X = _S1_3D_Rho_Grid * cos(_S1_3D_Phi_Grid)\n",
    "        _S1_3D_Y = _S1_3D_Rho_Grid * sin(_S1_3D_Phi_Grid)\n",
    "        _S1_3D_Z = np.full_like(_S1_3D_X, self.zu)\n",
    "\n",
    "        _S1_Colors = np.empty((_phi_arr.size, self.s1_rho_arr.size))\n",
    "        _S1_Colors[:] = _s1_sigma\n",
    "        _S1_C = _ch_cm(_norm(_S1_Colors))\n",
    "\n",
    "        # for Surface 3 (lower disk)\n",
    "        _s3_3d_rho_grid = _s1_3d_rho_grid\n",
    "        _S3_3D_Rho_Grid,_S3_3D_Phi_Grid=np.meshgrid(_s3_3d_rho_grid,_phi_arr)\n",
    "        _S3_3D_X = _S3_3D_Rho_Grid * cos(_S3_3D_Phi_Grid)\n",
    "        _S3_3D_Y = _S3_3D_Rho_Grid * sin(_S3_3D_Phi_Grid)\n",
    "        _S3_3D_Z = np.full_like(_S3_3D_X, self.zd)\n",
    "\n",
    "        _S3_Colors = np.empty((_phi_arr.size, self.s3_rho_arr.size))\n",
    "        _S3_Colors[:] = _s3_sigma\n",
    "        _S3_C = _ch_cm(_norm(_S3_Colors))\n",
    "        \n",
    "        # for Surface 2 (middle cylinder)\n",
    "        _s2_3d_z_grid = np.empty(self.s2_z_arr.size + 1,)\n",
    "        _s2_3d_z_grid[0] = self.s2_z_arr[0]\n",
    "        _s2_3d_z_grid[1:-1]=0.5*(self.s2_z_arr[:-1]+self.s2_z_arr[1:])\n",
    "        _s2_3d_z_grid[-1] = self.s2_z_arr[-1]\n",
    "\n",
    "        _S2_3D_Z_Grid,_S2_3D_Phi_Grid=np.meshgrid(_s2_3d_z_grid,_phi_arr)\n",
    "        _S2_3D_X = self.R * cos(_S2_3D_Phi_Grid)\n",
    "        _S2_3D_Y = self.R * sin(_S2_3D_Phi_Grid)\n",
    "        _S2_3D_Z = _S2_3D_Z_Grid\n",
    "\n",
    "        _S2_Colors = np.empty((_phi_arr.size, self.s2_z_arr.size))\n",
    "        _S2_Colors[:] = _s2_sigma\n",
    "        _S2_C = _ch_cm(_norm(_S2_Colors))\n",
    "\n",
    "        _ax3 = ax\n",
    "\n",
    "        # This order matters\n",
    "        _ax3.plot_surface(_S2_3D_X, _S2_3D_Y, _S2_3D_Z, \n",
    "                          facecolors=_S2_C, cmap=_ch_cm)\n",
    "        _ax3.plot_surface(_S1_3D_X, _S1_3D_Y, _S1_3D_Z, \n",
    "                          facecolors=_S1_C, cmap=_ch_cm)\n",
    "        _ax3.plot_surface(_S3_3D_X, _S3_3D_Y, _S3_3D_Z, \n",
    "                          facecolors=_S3_C, cmap=_ch_cm)\n",
    "\n",
    "        _ax3.view_init(elev=30, azim=None)\n",
    "\n",
    "        _ax3.set_axis_off()"
   ]
  },
  {
   "cell_type": "markdown",
   "metadata": {},
   "source": [
    "## Implement `ElectricPotentialAtCylindricalCoord`"
   ]
  },
  {
   "cell_type": "code",
   "execution_count": 3,
   "metadata": {},
   "outputs": [],
   "source": [
    "import numpy as np\n",
    "\n",
    "class ElectricPotentialAtCylindricalCoord(object):\n",
    "    \n",
    "    _max_iter_num = 50000\n",
    "    \n",
    "    def __init__(self, rho_arr, z_arr, bd_cond):\n",
    "        \n",
    "        ## Check arguments and set as members\n",
    "        for _arg in (rho_arr, z_arr): \n",
    "            assert isinstance(_arg, np.ndarray) and _arg.ndim == 1\n",
    "        assert np.diff(rho_arr).std()<1e-15 and np.diff(z_arr).std()<1e-15\n",
    "        self.rho_arr, self.z_arr = rho_arr, z_arr\n",
    "        self.drho, self.dz = rho_arr[1] - rho_arr[0], z_arr[1] - z_arr[0]\n",
    "        \n",
    "        assert isinstance(bd_cond,np.ma.MaskedArray)\n",
    "        assert bd_cond.shape == (rho_arr.size, z_arr.size)\n",
    "        self.bd_cond = bd_cond\n",
    "        \n",
    "        ## Allocate and Initialize the potential array\n",
    "        self.V = np.empty(self.bd_cond.shape, dtype=float)\n",
    "        self.V[:] = np.random.rand(*self.bd_cond.shape)\n",
    "        self.V[~self.bd_cond.mask] = self.bd_cond[~self.bd_cond.mask]\n",
    "        \n",
    "        \n",
    "    def go_to_solution(self, stop_thres=1e-3):\n",
    "        \n",
    "        _c1 = 1.0 / (4.0/self.drho**2 + 2.0/self.dz**2)\n",
    "        _c2 = 1.0 / (2.0/self.drho**2 + 2.0/self.dz**2)        \n",
    "        _converged = False\n",
    "        \n",
    "        for _ in range(self._max_iter_num):\n",
    "            \n",
    "            _V_prev = self.V.copy()\n",
    "\n",
    "            self.V[0,1:-1] = _c1 * (\n",
    "                4.0 / self.drho**2 * self.V[1,1:-1]\n",
    "                + 1.0 / self.dz**2 * (self.V[0,2:] + self.V[0,:-2])\n",
    "            )\n",
    "            self.V[1:-1,1:-1] = _c2 * (\n",
    "                1.0/self.drho**2 * (self.V[2:,1:-1] + self.V[:-2,1:-1]) \n",
    "                + (1.0/2.0/self.drho/self.rho_arr[1:-1]\n",
    "                   *(self.V[2:,1:-1]-self.V[:-2,1:-1]).transpose()).transpose()\n",
    "                + 1.0/self.dz**2 * (self.V[1:-1,2:] + self.V[1:-1,:-2])\n",
    "            )\n",
    "\n",
    "            self.V[~self.bd_cond.mask] = self.bd_cond[~self.bd_cond.mask]\n",
    "            \n",
    "            if np.all(np.abs(self.V - _V_prev) < stop_thres): \n",
    "                _converged = True\n",
    "                break\n",
    "        \n",
    "        if not _converged: \n",
    "            raise Exception(\"Failed to find converged potential\")\n",
    "            \n",
    "    def __getitem__(self, index_exp):\n",
    "        return self.V[index_exp]"
   ]
  },
  {
   "cell_type": "markdown",
   "metadata": {},
   "source": [
    "## Implement `AzimSymmCylinderSystem`"
   ]
  },
  {
   "cell_type": "code",
   "execution_count": 4,
   "metadata": {},
   "outputs": [],
   "source": [
    "from numbers import Real\n",
    "\n",
    "class AzimSymmCylinderSystem(object):\n",
    "    def __init__(self, rho_min, rho_max, min_delta_rho, \n",
    "                 z_min, z_max, min_delta_z, V_box_boundary=0.0):\n",
    "        \n",
    "        assert (rho_min >= 0) and (rho_min < rho_max)\n",
    "        assert (z_min < z_max)\n",
    "\n",
    "        def get_N_grid(xmin, xmax, min_delta_x):\n",
    "            return int((xmax-xmin+min_delta_x)/min_delta_x) + 1\n",
    "        \n",
    "        assert isinstance(V_box_boundary, Real)\n",
    "        self.V_box_boundary = V_box_boundary\n",
    "\n",
    "        N_rho = get_N_grid(rho_min, rho_max, min_delta_rho)\n",
    "        self.rho_arr = np.linspace(rho_min, rho_max, N_rho)\n",
    "        self.delta_rho = self.rho_arr[1] - self.rho_arr[0]\n",
    "        self.rho_min, self.rho_max = rho_min, rho_max\n",
    "        self.diameter = 2.0 * rho_max\n",
    "\n",
    "        N_z = get_N_grid(z_min, z_max, min_delta_z)\n",
    "        self.z_arr = np.linspace(z_min, z_max, N_z)\n",
    "        self.delta_z = self.z_arr[1] - self.z_arr[0]\n",
    "        self.z_min, self.z_max = z_min, z_max\n",
    "        self.height = z_max - z_min\n",
    "        \n",
    "        self.extent = (rho_min, rho_max, z_min, z_max)\n",
    "\n",
    "        self.grid_shape = (N_rho, N_z)\n",
    "        \n",
    "        ## Boundary condition\n",
    "        # Construct a boundary condition array\n",
    "        _bd_cond = np.ma.array(\n",
    "            np.full(self.grid_shape, -1e10, dtype=float), mask=True)\n",
    "        self.V = ElectricPotentialAtCylindricalCoord(\n",
    "            self.rho_arr, self.z_arr, _bd_cond)\n",
    "        \n",
    "        # Initialize the boundary condition on potential\n",
    "        assert isinstance(self.V.bd_cond, np.ma.MaskedArray)\n",
    "        self.init_bd_cond()\n",
    "        \n",
    "        ## Cylinders!\n",
    "        self.cyliners = []\n",
    "        \n",
    "        \n",
    "    def init_bd_cond(self):\n",
    "        \n",
    "        self.V.bd_cond.mask[:,:] = True\n",
    "        \n",
    "        self.V.bd_cond.mask[:,[0,-1]] = False\n",
    "        self.V.bd_cond[:,[0,-1]] = self.V_box_boundary\n",
    "        \n",
    "        self.V.bd_cond.mask[-1,:] = False\n",
    "        self.V.bd_cond[-1,:] = self.V_box_boundary\n",
    "\n",
    "        if self.rho_arr[0] > 0: \n",
    "            self.V.bd_cond.mask[0,:] = False\n",
    "            self.V.bd_cond[0,:] = self.V_box_boundary\n",
    "    \n",
    "    \n",
    "    def remove_all_cylinders(self):\n",
    "        self.cyliners.clear()\n",
    "        self.init_bd_cond()\n",
    "    \n",
    "    \n",
    "    def add_cylinder(self, R_ind, zd_ind, zu_ind, V0):\n",
    "        \n",
    "        ## Construct and register a new Cylinder object\n",
    "        _cylin = ConductingCylinderOnGrid(\n",
    "            self.rho_arr, self.z_arr, R_ind, zd_ind, zu_ind, V0)\n",
    "        self.cyliners.append(_cylin)\n",
    "        \n",
    "        ## Update the boundary condition\n",
    "        self.V.bd_cond.mask[_cylin.mask] = False\n",
    "        self.V.bd_cond[_cylin.mask] = _cylin.V0\n",
    "        \n",
    "        \n",
    "    def get_charge_of_each_cylinder(self):\n",
    "        return np.array([cylin.get_total_charge(self.V.V) \n",
    "                         for cylin in self.cyliners])"
   ]
  },
  {
   "cell_type": "markdown",
   "metadata": {},
   "source": [
    "# Part I :: Electric Potential for Cylinders in a Cylinder"
   ]
  },
  {
   "cell_type": "markdown",
   "metadata": {},
   "source": [
    "## Construct a system of two cylinders in a cylinder"
   ]
  },
  {
   "cell_type": "code",
   "execution_count": 5,
   "metadata": {},
   "outputs": [],
   "source": [
    "sys = AzimSymmCylinderSystem(\n",
    "    rho_min=0.0, rho_max=5.0, min_delta_rho=0.05, \n",
    "    z_min=-3.0, z_max=6.0, min_delta_z=0.1\n",
    ")\n",
    "\n",
    "sys.add_cylinder(R_ind=33, zd_ind=10, zu_ind=10+10, V0=3.0)\n",
    "sys.add_cylinder(R_ind=53, zd_ind=50, zu_ind=60, V0=-2.0)"
   ]
  },
  {
   "cell_type": "markdown",
   "metadata": {},
   "source": [
    "## Find solution for laplace equation to obtain the potential $V$"
   ]
  },
  {
   "cell_type": "code",
   "execution_count": 6,
   "metadata": {},
   "outputs": [],
   "source": [
    "sys.V.go_to_solution(stop_thres=1e-5)"
   ]
  },
  {
   "cell_type": "markdown",
   "metadata": {},
   "source": [
    "## Calculate charge on each cylinder"
   ]
  },
  {
   "cell_type": "code",
   "execution_count": 7,
   "metadata": {},
   "outputs": [
    {
     "data": {
      "text/plain": [
       "array([ 7.6822729 , -7.76794341])"
      ]
     },
     "execution_count": 7,
     "metadata": {},
     "output_type": "execute_result"
    }
   ],
   "source": [
    "sys.get_charge_of_each_cylinder()"
   ]
  },
  {
   "cell_type": "markdown",
   "metadata": {},
   "source": [
    "## Plot the potential"
   ]
  },
  {
   "cell_type": "code",
   "execution_count": 8,
   "metadata": {},
   "outputs": [
    {
     "data": {
      "text/plain": [
       "Text(0, 0.5, 'z / a.u.')"
      ]
     },
     "execution_count": 8,
     "metadata": {},
     "output_type": "execute_result"
    },
    {
     "data": {
      "image/png": "[encoded data removed]",
      "text/plain": [
       "<Figure size 432x288 with 2 Axes>"
      ]
     },
     "metadata": {},
     "output_type": "display_data"
    }
   ],
   "source": [
    "fig, ax = plt.subplots()\n",
    "vmax = np.abs(sys.V.V).max()\n",
    "vmin = -vmax\n",
    "img = ax.imshow(sys.V.V.transpose(), origin='lower', extent=sys.extent,\n",
    "                cmap='seismic', vmin=vmin, vmax=vmax)\n",
    "cb = fig.colorbar(img, ax=ax)\n",
    "ax.set_xlabel(r\"$\\rho$ / a.u.\")\n",
    "ax.set_ylabel(r\"z / a.u.\")"
   ]
  },
  {
   "cell_type": "markdown",
   "metadata": {},
   "source": [
    "# Part II :: Capacitance Depending on the Distance"
   ]
  },
  {
   "cell_type": "markdown",
   "metadata": {},
   "source": [
    "## Evaluation"
   ]
  },
  {
   "cell_type": "code",
   "execution_count": 9,
   "metadata": {},
   "outputs": [],
   "source": [
    "sys = AzimSymmCylinderSystem(\n",
    "    rho_min=0.0, rho_max=5.0, min_delta_rho=0.05, \n",
    "    z_min=-3.0, z_max=6.0, min_delta_z=0.1\n",
    ")\n",
    "\n",
    "perp = np.linspace(0.1, 0.9, 11)\n",
    "zd_ind_arr = (sys.z_arr.size * perp).astype(int) - 5\n",
    "\n",
    "V0 = 2.0\n",
    "deltaV = abs(sys.V_box_boundary - V0)\n",
    "Qtot_list, capaci_list = [], []\n",
    "for zd_ind in zd_ind_arr:\n",
    "    \n",
    "    sys.remove_all_cylinders()\n",
    "    sys.add_cylinder(R_ind=33, zd_ind=zd_ind, zu_ind=zd_ind+10, V0=V0)\n",
    "\n",
    "    sys.V.go_to_solution(stop_thres=1e-5)\n",
    "    \n",
    "    cylin, = sys.cyliners\n",
    "    Qtot = cylin.get_total_charge(sys.V.V)\n",
    "    capaci = Qtot / deltaV\n",
    "    \n",
    "    Qtot_list.append(Qtot)\n",
    "    capaci_list.append(capaci)"
   ]
  },
  {
   "cell_type": "markdown",
   "metadata": {},
   "source": [
    "## Data Visualization : capacitance for each geometry setting"
   ]
  },
  {
   "cell_type": "code",
   "execution_count": 10,
   "metadata": {},
   "outputs": [
    {
     "data": {
      "image/png": "[encoded data removed]",
      "text/plain": [
       "<Figure size 648x216 with 2 Axes>"
      ]
     },
     "metadata": {},
     "output_type": "display_data"
    }
   ],
   "source": [
    "figcc, (axcc, axqc) = plt.subplots(nrows=1, ncols=2, figsize=(9,3))\n",
    "\n",
    "cylin_h = sys.cyliners[0].zu - sys.cyliners[0].zd\n",
    "z_perp = sys.z_min + perp * sys.height\n",
    "axcc.plot(z_perp, capaci_list, '.-', color='black')\n",
    "axcc.set_xlim(sys.z_arr[0], sys.z_arr[-1])\n",
    "axcc.set_ylabel(\"capacitance / a.u.\")\n",
    "axcc.set_xlabel(\"z-coordniate of cyliner center / a.u.\")\n",
    "\n",
    "axqc.plot(Qtot_list, capaci_list, '.-k')\n",
    "axqc.set_xlabel(\"Total Charge on the cylinder / a.u.\")\n",
    "axqc.set_ylabel(\"Capacitance / a.u.\")\n",
    "\n",
    "figcc.suptitle(\n",
    "    \"capacitence of a cylinder in a cylinder ($\\Delta{{V}}={}$)\".format(deltaV), \n",
    "               va='baseline', fontsize='x-large')\n",
    "\n",
    "figcc.tight_layout()\n",
    "figcc.savefig(\"capacitance-of-a-cylinder-in-a-cylinder.png\")"
   ]
  },
  {
   "cell_type": "markdown",
   "metadata": {},
   "source": [
    "# Part III :: Demonstration - \"Capacitance is a purely Geometric Quantity\""
   ]
  },
  {
   "cell_type": "markdown",
   "metadata": {},
   "source": [
    "## Evaluation"
   ]
  },
  {
   "cell_type": "code",
   "execution_count": 11,
   "metadata": {},
   "outputs": [],
   "source": [
    "sys = AzimSymmCylinderSystem(\n",
    "    rho_min=0.0, rho_max=5.0, min_delta_rho=0.05, \n",
    "    z_min=-3.0, z_max=6.0, min_delta_z=0.1\n",
    ")\n",
    "\n",
    "V0_arr = np.linspace(0.1, 10.0, 15)\n",
    "\n",
    "Qtot_list, capaci_list, deltaV_list = [], [], []\n",
    "for V0 in V0_arr:\n",
    "    \n",
    "    sys.remove_all_cylinders()\n",
    "    sys.add_cylinder(R_ind=33, zd_ind=30, zu_ind=30+10, V0=V0)\n",
    "    \n",
    "    sys.V.go_to_solution(stop_thres=1e-5)\n",
    "    \n",
    "    cylin, = sys.cyliners\n",
    "    Qtot = cylin.get_total_charge(sys.V.V)\n",
    "    deltaV = abs(sys.V_box_boundary - cylin.V0)\n",
    "    capaci = Qtot / deltaV\n",
    "    \n",
    "    Qtot_list.append(Qtot)\n",
    "    capaci_list.append(capaci)\n",
    "    deltaV_list.append(deltaV)"
   ]
  },
  {
   "cell_type": "markdown",
   "metadata": {},
   "source": [
    "## Data Visualization : Capacitence with fixed geometry and varying voltage"
   ]
  },
  {
   "cell_type": "code",
   "execution_count": 12,
   "metadata": {},
   "outputs": [
    {
     "data": {
      "image/png": "[encoded data removed]",
      "text/plain": [
       "<Figure size 432x288 with 1 Axes>"
      ]
     },
     "metadata": {},
     "output_type": "display_data"
    }
   ],
   "source": [
    "figc, axc = plt.subplots()\n",
    "axc.plot(deltaV_list, Qtot_list, '.-k')\n",
    "axc.set_xlabel(r\"$\\Delta{V}$ / a.u.\")\n",
    "axc.set_ylabel(\"Total Charge on the cylinder / a.u.\")\n",
    "axc.set_title(\"Total charge of a cylinder in a cylinder\")\n",
    "\n",
    "capa_av = np.average(capaci_list)\n",
    "axc.text(0.0,0.95,r\"$slope=C={:.3f}$\".format(capa_av), \n",
    "         fontsize='x-large', transform=ax.transAxes)\n",
    "\n",
    "figc.tight_layout()\n",
    "figc.savefig(\"total-charge-of-cylinder-in-cylinder-varying-deltaV.png\")"
   ]
  },
  {
   "cell_type": "markdown",
   "metadata": {},
   "source": [
    "# Part IV :: Surface Charge Density $\\sigma$ of a cylinder"
   ]
  },
  {
   "cell_type": "markdown",
   "metadata": {},
   "source": [
    "## Potential Evaluation"
   ]
  },
  {
   "cell_type": "code",
   "execution_count": 13,
   "metadata": {},
   "outputs": [],
   "source": [
    "sys = AzimSymmCylinderSystem(\n",
    "    rho_min=0.0, rho_max=5.0, min_delta_rho=0.05, \n",
    "    z_min=-3.0, z_max=6.0, min_delta_z=0.1\n",
    ")\n",
    "\n",
    "sys.add_cylinder(R_ind=33, zd_ind=40, zu_ind=40+30, V0=3.0)\n",
    "\n",
    "sys.V.go_to_solution(stop_thres=1e-5)"
   ]
  },
  {
   "cell_type": "markdown",
   "metadata": {},
   "source": [
    "## Visualizing charge distribution"
   ]
  },
  {
   "cell_type": "code",
   "execution_count": 14,
   "metadata": {},
   "outputs": [
    {
     "data": {
      "image/png": "[encoded data removed]",
      "text/plain": [
       "<Figure size 432x288 with 1 Axes>"
      ]
     },
     "metadata": {},
     "output_type": "display_data"
    }
   ],
   "source": [
    "from mpl_toolkits.mplot3d import Axes3D\n",
    "fig3, ax3 = plt.subplots(subplot_kw={'projection':'3d'})\n",
    "\n",
    "cylin, = sys.cyliners\n",
    "cylin.show_charge_density_3D(sys.V.V, ax3)\n",
    "\n",
    "fig3.savefig(\"charge-density-of-single-cylinder.png\")"
   ]
  }
 ],
 "metadata": {
  "kernelspec": {
   "display_name": "Python 3",
   "language": "python",
   "name": "python3"
  },
  "language_info": {
   "codemirror_mode": {
    "name": "ipython",
    "version": 3
   },
   "file_extension": ".py",
   "mimetype": "text/x-python",
   "name": "python",
   "nbconvert_exporter": "python",
   "pygments_lexer": "ipython3",
   "version": "3.6.0"
  }
 },
 "nbformat": 4,
 "nbformat_minor": 2
}
