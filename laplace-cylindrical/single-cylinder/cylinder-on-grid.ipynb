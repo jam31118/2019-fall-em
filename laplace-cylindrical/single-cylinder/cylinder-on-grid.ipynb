{
 "cells": [
  {
   "cell_type": "markdown",
   "metadata": {},
   "source": [
    "# routinize -- make them objects etc."
   ]
  },
  {
   "cell_type": "code",
   "execution_count": 1,
   "metadata": {},
   "outputs": [],
   "source": [
    "import numpy as np\n",
    "from numpy import sqrt, pi\n",
    "import matplotlib.pyplot as plt\n",
    "\n",
    "from numpy import cos, sin\n",
    "\n",
    "from matplotlib.colors import Normalize\n",
    "from matplotlib import cm"
   ]
  },
  {
   "cell_type": "code",
   "execution_count": 18,
   "metadata": {},
   "outputs": [],
   "source": [
    "from numbers import Integral\n",
    "from numpy import pi\n",
    "\n",
    "class ConductingCylinderOnGrid(object):\n",
    "    def __init__(self, rho_arr, z_arr, R_ind, zd_ind, zu_ind, V0):\n",
    "        ## Check arguments and set them members\n",
    "        for _arg in (rho_arr, z_arr):\n",
    "            assert isinstance(_arg, np.ndarray)\n",
    "            assert _arg.ndim == 1\n",
    "            assert np.diff(_arg).std() < 1e-15\n",
    "        assert rho_arr[0] == 0\n",
    "        for _arg in (R_ind, zd_ind, zu_ind): assert isinstance(_arg, Integral)\n",
    "        for z_ind in (zd_ind, zu_ind): assert z_ind in range(-z_arr.size, z_arr.size)\n",
    "        assert R_ind in range(-rho_arr.size, rho_arr.size)\n",
    "        \n",
    "        self.rho_arr, self.z_arr = rho_arr, z_arr\n",
    "        self.drho, self.dz = rho_arr[1] - rho_arr[0], z_arr[1] - z_arr[0]\n",
    "        self.R_ind, self.zd_ind, self.zu_ind = R_ind, zd_ind, zu_ind\n",
    "        self.R = self.rho_arr[R_ind]\n",
    "        self.zd, self.zu = self.z_arr[[zd_ind, zu_ind]]\n",
    "        self.V0 = V0\n",
    "        \n",
    "        ## Construct surface points indice\n",
    "        self.s1_ind = [(rho_ind, self.zu_ind) for rho_ind in range(self.R_ind+1)]\n",
    "        self.s2_ind = [(self.R_ind, z_ind) for z_ind in range(self.zd_ind,self.zu_ind+1)]\n",
    "        self.s3_ind = [(rho_ind, self.zd_ind) for rho_ind in range(self.R_ind+1)]\n",
    "        self.surf_points_ind = np.array([*self.s1_ind, *self.s2_ind, *self.s3_ind])\n",
    "        \n",
    "        ## Construct a mask\n",
    "        _Rho, _Z = np.meshgrid(self.rho_arr, self.z_arr, indexing='ij')\n",
    "        self.mask = (_Rho <= self.R) & ((self.zd) <= _Z) & (_Z <= (self.zu))\n",
    "        \n",
    "        \n",
    "    def eval_surf_charge_density(self, V):\n",
    "        assert isinstance(V, np.ndarray)\n",
    "        assert V.shape == (self.rho_arr.size, self.z_arr.size)\n",
    "        epsil0 = 1.0 / (4*pi)\n",
    "        s1_sigma = np.array([epsil0 * -(V[rho_ind, z_ind+1] - V[rho_ind,z_ind]) / self.dz for (rho_ind, z_ind) in self.s1_ind])\n",
    "        s2_sigma = np.array([epsil0 * -(V[rho_ind+1, z_ind] - V[rho_ind,z_ind]) / self.drho for (rho_ind, z_ind) in self.s2_ind])\n",
    "        s3_sigma = np.array([epsil0 * (V[rho_ind, z_ind] - V[rho_ind,z_ind-1]) / self.dz for (rho_ind, z_ind) in self.s3_ind])\n",
    "        return s1_sigma, s2_sigma, s3_sigma\n",
    "    \n",
    "    def get_total_charge(self, V):\n",
    "        s1_sigma, s2_sigma, s3_sigma = self.eval_surf_charge_density(V)\n",
    "        \n",
    "        s1_rho_arr = rho_arr[np.array(self.s1_ind)[:,0]]\n",
    "        s1_rho_mul_sigma = s1_rho_arr * s1_sigma\n",
    "        Q_s1 = 2*pi*np.sum(0.5 * (s1_rho_mul_sigma[:-1] + s1_rho_mul_sigma[1:]) * np.diff(s1_rho_arr))\n",
    "\n",
    "        s3_rho_arr = rho_arr[np.array(self.s3_ind)[:,0]]\n",
    "        s3_rho_mul_sigma = s3_rho_arr * s3_sigma\n",
    "        Q_s3 = 2*pi*np.sum(0.5 * (s3_rho_mul_sigma[:-1] + s3_rho_mul_sigma[1:]) * np.diff(s3_rho_arr))\n",
    "\n",
    "        s2_z_arr = z_arr[np.array(self.s2_ind)[:,1]]\n",
    "        Q_s2 = 2*pi*self.R * np.sum(0.5 * (s2_sigma[:-1] + s2_sigma[1:]) * np.diff(s2_z_arr))\n",
    "\n",
    "        Q_total = Q_s1 + Q_s2 + Q_s3\n",
    "        return Q_total"
   ]
  },
  {
   "cell_type": "code",
   "execution_count": 48,
   "metadata": {},
   "outputs": [],
   "source": [
    "import numpy as np\n",
    "\n",
    "class Electric_Potential_At_Cylindrical_Coord(object):\n",
    "    \n",
    "    _max_iter_num = 10000\n",
    "    \n",
    "    def __init__(self, rho_arr, z_arr, bd_cond):\n",
    "        \n",
    "        ## Check arguments and set as members\n",
    "        for _arg in (rho_arr, z_arr): assert isinstance(_arg, np.ndarray) and _arg.ndim == 1\n",
    "        assert np.diff(rho_arr).std() < 1e-15 and np.diff(z_arr).std() < 1e-15\n",
    "        self.rho_arr, self.z_arr = rho_arr, z_arr\n",
    "        self.drho, self.dz = rho_arr[1] - rho_arr[0], z_arr[1] - z_arr[0]\n",
    "        \n",
    "        assert isinstance(bd_cond,np.ma.MaskedArray)\n",
    "        assert bd_cond.shape == (rho_arr.size, z_arr.size)\n",
    "        self.bd_cond = bd_cond\n",
    "        \n",
    "        ## Allocate and Initialize the potential array\n",
    "        self.V = np.empty(self.bd_cond.shape, dtype=float)\n",
    "        self.V[:] = np.random.rand(*self.bd_cond.shape)\n",
    "        self.V[~self.bd_cond.mask] = self.bd_cond[~self.bd_cond.mask]\n",
    "        \n",
    "    def go_to_solution(self, stop_thres=1e-3):\n",
    "        \n",
    "        _c1 = 1.0 / (4.0/self.drho**2 + 2.0/self.dz**2)\n",
    "        _c2 = 1.0 / (2.0/self.drho**2 + 2.0/self.dz**2)        \n",
    "        _converged = False\n",
    "        \n",
    "        for _ in range(self._max_iter_num):\n",
    "            \n",
    "            _V_prev = self.V.copy()\n",
    "\n",
    "            self.V[0,1:-1] = _c1 * (\n",
    "                4.0 / self.drho**2 * self.V[1,1:-1]\n",
    "                + 1.0 / self.dz**2 * (self.V[0,2:] + self.V[0,:-2])\n",
    "            )\n",
    "            self.V[1:-1,1:-1] = _c2 * (\n",
    "                1.0/self.drho**2 * (self.V[2:,1:-1] + self.V[:-2,1:-1]) \n",
    "                + (1.0/2.0/self.drho/self.rho_arr[1:-1]*(self.V[2:,1:-1]-self.V[:-2,1:-1]).transpose()).transpose()\n",
    "                + 1.0/self.dz**2 * (self.V[1:-1,2:] + self.V[1:-1,:-2])\n",
    "            )\n",
    "\n",
    "            self.V[~self.bd_cond.mask] = self.bd_cond[~self.bd_cond.mask]\n",
    "            \n",
    "            if np.all(np.abs(self.V - _V_prev) < stop_thres): \n",
    "                _converged = True\n",
    "                break\n",
    "        \n",
    "        if not _converged: raise Exception(\"Failed to find converged potential\")\n",
    "            \n",
    "    def __getitem__(self, index_exp):\n",
    "        return self.V[index_exp]"
   ]
  },
  {
   "cell_type": "code",
   "execution_count": 63,
   "metadata": {},
   "outputs": [],
   "source": [
    "from numbers import Real\n",
    "\n",
    "class AzimSymmCylinderSystem(object):\n",
    "    def __init__(self, rho_min, rho_max, min_delta_rho, z_min, z_max, min_delta_z, V_box_boundary=0.0):\n",
    "        assert (rho_min >= 0) and (rho_min < rho_max)\n",
    "        assert (z_min < z_max)\n",
    "\n",
    "        def get_N_grid(xmin, xmax, min_delta_x):\n",
    "            return int((xmax-xmin+min_delta_x)/min_delta_x) + 1\n",
    "\n",
    "        N_rho = get_N_grid(rho_min, rho_max, min_delta_rho)\n",
    "        self.rho_arr = np.linspace(rho_min, rho_max, N_rho)\n",
    "        self.delta_rho = rho_arr[1] - rho_arr[0]\n",
    "\n",
    "        N_z = get_N_grid(z_min, z_max, min_delta_z)\n",
    "        self.z_arr = np.linspace(z_min, z_max, N_z)\n",
    "        self.delta_z = z_arr[1] - z_arr[0]\n",
    "\n",
    "        self.grid_shape = (N_rho, N_z)\n",
    "        \n",
    "        \n",
    "        ## Boundary Condition\n",
    "        self.bd_cond = np.ma.array(np.full(self.grid_shape, -1e10, dtype=float), mask=True)\n",
    "\n",
    "        # Bounding box\n",
    "        assert isinstance(V_box_boundary, Real)\n",
    "        self.bd_cond.mask[:,[0,-1]] = False\n",
    "        self.bd_cond[:,[0,-1]] = V_box_boundary\n",
    "\n",
    "        self.bd_cond.mask[-1,:] = False\n",
    "        self.bd_cond[-1,:] = V_box_boundary\n",
    "\n",
    "        if rho_arr[0] > 0: \n",
    "            self.bd_cond.mask[0,:] = False\n",
    "            self.bd_cond[0,:] = V_box_boundary\n",
    "           \n",
    "        \n",
    "        ## Cylinders!\n",
    "        self.cyliners = []\n",
    "        \n",
    "        ## Potential!\n",
    "        self.V = Electric_Potential_At_Cylindrical_Coord(self.rho_arr, self.z_arr, self.bd_cond)\n",
    "        \n",
    "        \n",
    "    def add_cylinder(self, R_ind, zd_ind, zu_ind, V0):\n",
    "        \n",
    "        ## Construct and register a new Cylinder object\n",
    "        _cylin = ConductingCylinderOnGrid(self.rho_arr, self.z_arr, R_ind, zd_ind, zu_ind, V0)\n",
    "        self.cyliners.append(_cylin)\n",
    "        \n",
    "        ## Update the boundary condition\n",
    "        self.bd_cond.mask[_cylin.mask] = False\n",
    "        self.bd_cond[_cylin.mask] = _cylin.V0"
   ]
  },
  {
   "cell_type": "markdown",
   "metadata": {},
   "source": [
    "# Define spatial grid"
   ]
  },
  {
   "cell_type": "code",
   "execution_count": null,
   "metadata": {},
   "outputs": [],
   "source": [
    "rho_min, rho_max, min_delta_rho = 0.0, 5.0, 0.05\n",
    "z_min, z_max, min_delta_z = -3.0, 6.0, 0.1\n",
    "\n",
    "sys = AzimSymmCylinderSystem(rho_min, rho_max, min_delta_rho, z_min, z_max, min_delta_z)"
   ]
  },
  {
   "cell_type": "code",
   "execution_count": 64,
   "metadata": {},
   "outputs": [],
   "source": [
    "sys.add_cylinder(sys.rho_arr.size // 3, (sys.z_arr.size // 3) - (sys.z_arr.size // 6), (sys.z_arr.size // 3) + (sys.z_arr.size // 6), V0=1.0)"
   ]
  },
  {
   "cell_type": "code",
   "execution_count": 75,
   "metadata": {},
   "outputs": [],
   "source": [
    "sys.V.go_to_solution(stop_thres=1e-7)"
   ]
  },
  {
   "cell_type": "code",
   "execution_count": 76,
   "metadata": {},
   "outputs": [
    {
     "data": {
      "image/png": "[encoded data removed]",
      "text/plain": [
       "<Figure size 432x288 with 2 Axes>"
      ]
     },
     "metadata": {},
     "output_type": "display_data"
    }
   ],
   "source": [
    "fig, ax = plt.subplots()\n",
    "img = ax.imshow(sys.V.V.transpose(), origin='lower', extent=(rho_min,rho_max,z_min,z_max), cmap='jet', vmax=1.1)\n",
    "cb = fig.colorbar(img, ax=ax)"
   ]
  },
  {
   "cell_type": "markdown",
   "metadata": {},
   "source": [
    "# Construct a boundary condition array"
   ]
  },
  {
   "cell_type": "markdown",
   "metadata": {},
   "source": [
    "## Define a conductor"
   ]
  },
  {
   "cell_type": "code",
   "execution_count": 32,
   "metadata": {},
   "outputs": [],
   "source": [
    "cylin = ConductingCylinderOnGrid(sys.rho_arr, sys.z_arr, sys.rho_arr.size // 3, (sys.z_arr.size // 3) - (sys.z_arr.size // 6), (sys.z_arr.size // 3) + (sys.z_arr.size // 6), V0=1.0)"
   ]
  },
  {
   "cell_type": "code",
   "execution_count": 25,
   "metadata": {},
   "outputs": [],
   "source": [
    "bd_cond = np.ma.array(np.full(grid_shape, -1e10, dtype=float), mask=True)\n",
    "\n",
    "# Bounding box\n",
    "V_box_boundary = 0.0\n",
    "bd_cond.mask[:,[0,-1]] = False\n",
    "bd_cond[:,[0,-1]] = V_box_boundary\n",
    "\n",
    "bd_cond.mask[-1,:] = False\n",
    "bd_cond[-1,:] = V_box_boundary\n",
    "\n",
    "if rho_arr[0] > 0: \n",
    "    bd_cond.mask[0,:] = False\n",
    "    bd_cond[0,:] = V_box_boundary\n",
    "             \n",
    "# A cylinder\n",
    "bd_cond.mask[cylin.mask] = False\n",
    "bd_cond[cylin.mask] = cylin.V0"
   ]
  },
  {
   "cell_type": "code",
   "execution_count": 41,
   "metadata": {},
   "outputs": [],
   "source": [
    "V = Electric_Potential_At_Cylindrical_Coord(sys.rho_arr, sys.z_arr, sys.bd_cond)"
   ]
  },
  {
   "cell_type": "code",
   "execution_count": 27,
   "metadata": {},
   "outputs": [],
   "source": [
    "V.go_to_solution()"
   ]
  },
  {
   "cell_type": "code",
   "execution_count": 28,
   "metadata": {},
   "outputs": [
    {
     "data": {
      "image/png": "[encoded data removed]",
      "text/plain": [
       "<Figure size 432x288 with 2 Axes>"
      ]
     },
     "metadata": {},
     "output_type": "display_data"
    }
   ],
   "source": [
    "fig, ax = plt.subplots()\n",
    "img = ax.imshow(V.V.transpose(), origin='lower', extent=(rho_min,rho_max,z_min,z_max), cmap='jet', vmax=1.1)\n",
    "cb = fig.colorbar(img, ax=ax)"
   ]
  },
  {
   "cell_type": "code",
   "execution_count": 29,
   "metadata": {},
   "outputs": [],
   "source": [
    "Q_total = cylin.get_total_charge(V.V)\n",
    "\n",
    "Capci = Q_total / (cylin.V0 - V_box_boundary)"
   ]
  },
  {
   "cell_type": "markdown",
   "metadata": {},
   "source": [
    "# Plot the capatitence as a function of offset of the cylinder from the outer boundary"
   ]
  },
  {
   "cell_type": "code",
   "execution_count": 23,
   "metadata": {},
   "outputs": [],
   "source": [
    "s1_rho_arr = rho_arr[np.array(cylin.s1_ind)[:,0]]\n",
    "s1_rho_grid = np.empty((len(cylin.s1_ind)+1,))\n",
    "s1_rho_grid[0] = s1_rho_arr[0] - 0.5*delta_rho\n",
    "s1_rho_grid[-1] = s1_rho_arr[-1] + 0.5*delta_rho\n",
    "s1_rho_grid[1:-1] = 0.5 * (s1_rho_arr[:-1] + s1_rho_arr[1:])\n",
    "\n",
    "s1_z_arr = z_arr[np.array(cylin.s1_ind)[0,0]].reshape(1,)\n",
    "s1_z_grid = np.array((cylin.zu-0.5*delta_z,cylin.zu+0.5*delta_z))\n",
    "# construct_catesian_mesh_for_pcolormesh(s1_rho_arr, s1_z_arr)\n",
    "\n",
    "s1_Rho, s1_Z = np.meshgrid(s1_rho_grid, s1_z_grid, indexing='ij')"
   ]
  },
  {
   "cell_type": "code",
   "execution_count": 31,
   "metadata": {},
   "outputs": [
    {
     "data": {
      "text/plain": [
       "<matplotlib.collections.QuadMesh at 0x7f6def161c50>"
      ]
     },
     "execution_count": 31,
     "metadata": {},
     "output_type": "execute_result"
    },
    {
     "data": {
      "image/png": "[encoded data removed]",
      "text/plain": [
       "<Figure size 432x576 with 1 Axes>"
      ]
     },
     "metadata": {},
     "output_type": "display_data"
    }
   ],
   "source": [
    "from vis.plot import construct_catesian_mesh_for_pcolormesh\n",
    "Rho_mesh, Z_mesh = construct_catesian_mesh_for_pcolormesh(rho_arr, z_arr)\n",
    "\n",
    "figg ,axx = plt.subplots(figsize=(6,8))\n",
    "axx.pcolormesh(Rho_mesh, Z_mesh, bd_cond.mask)\n",
    "axx.set_aspect(1.0)\n",
    "\n",
    "for (rho_ind, z_ind) in surf_points_ind:\n",
    "    rho, z = rho_arr[rho_ind], z_arr[z_ind]\n",
    "    axx.plot(rho, z, '.', color='white')\n",
    "# axx.plot(surf_points[:,0], surf_points[:,1],'.')\n",
    "# axx.imshow(bd_cond.mask)\n",
    "\n",
    "axx.pcolormesh(s1_Rho, s1_Z, s1_sigma.reshape((s1_sigma.size,1)), cmap='jet')\n",
    "\n",
    "# figg.savefig(\"mask-with-surf-and-near-points-test-1.png\")"
   ]
  },
  {
   "cell_type": "code",
   "execution_count": 19,
   "metadata": {},
   "outputs": [],
   "source": [
    "phi_arr = np.linspace(0,2*pi,51)"
   ]
  },
  {
   "cell_type": "code",
   "execution_count": 20,
   "metadata": {},
   "outputs": [],
   "source": [
    "sigma = np.array([*s1_sigma, *s2_sigma, *s3_sigma])\n",
    "ch_max, ch_min = sigma.max(), sigma.min()\n",
    "\n",
    "# vmax = max(abs(ch_max), abs(ch_min))\n",
    "# vmin = -vmax\n",
    "\n",
    "vmin, vmax = ch_min, ch_max\n",
    "\n",
    "norm = Normalize(vmin, vmax, clip=True)\n",
    "\n",
    "# ch_cm = cm.seismic\n",
    "ch_cm = cm.jet"
   ]
  },
  {
   "cell_type": "code",
   "execution_count": 21,
   "metadata": {},
   "outputs": [],
   "source": [
    "s1_3d_rho_grid = np.empty((s1_rho_arr.size+1,))\n",
    "s1_3d_rho_grid[1:-1] = 0.5 * (s1_rho_arr[:-1] + s1_rho_arr[1:])\n",
    "s1_3d_rho_grid[0] = 0.0\n",
    "s1_3d_rho_grid[-1] = R"
   ]
  },
  {
   "cell_type": "code",
   "execution_count": 22,
   "metadata": {},
   "outputs": [],
   "source": [
    "S1_3D_Rho_Grid, S1_3D_Phi_Grid = np.meshgrid(s1_3d_rho_grid, phi_arr)\n",
    "S1_3D_X = S1_3D_Rho_Grid * cos(S1_3D_Phi_Grid)\n",
    "S1_3D_Y = S1_3D_Rho_Grid * sin(S1_3D_Phi_Grid)\n",
    "S1_3D_Z = np.full_like(S1_3D_X, z_cy_max)\n",
    "\n",
    "# S1_3D_Rho, S1_3D_Phi = np.meshgrid(s1_rho_arr, phi_arr)\n",
    "# S1_3D_X = S1_3D_Rho * cos(S1_3D_Phi)\n",
    "# S1_3D_Y = S1_3D_Rho * sin(S1_3D_Phi)\n",
    "# S1_3D_Z = np.full_like(S1_3D_X, z_cy_max)\n",
    "\n",
    "S1_Colors = np.empty((phi_arr.size, s1_rho_arr.size))\n",
    "S1_Colors[:] = s1_sigma\n",
    "\n",
    "# s1_norm = Normalize(S1_Colors.min(), S1_Colors.max(), clip=True)\n",
    "S1_C = ch_cm(norm(S1_Colors))"
   ]
  },
  {
   "cell_type": "code",
   "execution_count": 23,
   "metadata": {},
   "outputs": [],
   "source": [
    "s3_rho_arr = s1_rho_arr\n",
    "s3_3d_rho_grid = s1_3d_rho_grid\n",
    "S3_3D_Rho_Grid, S3_3D_Phi_Grid = np.meshgrid(s3_3d_rho_grid, phi_arr)\n",
    "S3_3D_X = S3_3D_Rho_Grid * cos(S3_3D_Phi_Grid)\n",
    "S3_3D_Y = S3_3D_Rho_Grid * sin(S3_3D_Phi_Grid)\n",
    "S3_3D_Z = np.full_like(S3_3D_X, z_cy_min)\n",
    "\n",
    "S3_Colors = np.empty((phi_arr.size, s3_rho_arr.size))\n",
    "S3_Colors[:] = s3_sigma\n",
    "\n",
    "# s3_norm = Normalize(S3_Colors.min(), S3_Colors.max(), clip=True)\n",
    "S3_C = ch_cm(norm(S3_Colors))"
   ]
  },
  {
   "cell_type": "code",
   "execution_count": 24,
   "metadata": {},
   "outputs": [],
   "source": [
    "s2_z_arr = z_arr[np.array(s2_ind)[:,1]]\n",
    "\n",
    "s2_3d_z_grid = np.empty(s2_z_arr.size + 1,)\n",
    "s2_3d_z_grid[0] = s2_z_arr[0]\n",
    "s2_3d_z_grid[1:-1] = 0.5 * (s2_z_arr[:-1] + s2_z_arr[1:])\n",
    "s2_3d_z_grid[-1] = s2_z_arr[-1]\n",
    "\n",
    "S2_3D_Z_Grid, S2_3D_Phi_Grid = np.meshgrid(s2_3d_z_grid, phi_arr)\n",
    "S2_3D_X = R * cos(S2_3D_Phi_Grid)\n",
    "S2_3D_Y = R * sin(S2_3D_Phi_Grid)\n",
    "S2_3D_Z = S2_3D_Z_Grid\n",
    "\n",
    "S2_Colors = np.empty((phi_arr.size, s2_z_arr.size))\n",
    "S2_Colors[:] = s2_sigma\n",
    "\n",
    "# s2_norm = Normalize(S2_Colors.min(), S2_Colors.max(), clip=True)\n",
    "S2_C = ch_cm(norm(S2_Colors))"
   ]
  },
  {
   "cell_type": "code",
   "execution_count": 26,
   "metadata": {},
   "outputs": [
    {
     "data": {
      "text/plain": [
       "(-2, 2)"
      ]
     },
     "execution_count": 26,
     "metadata": {},
     "output_type": "execute_result"
    },
    {
     "data": {
      "image/png": "[encoded data removed]",
      "text/plain": [
       "<Figure size 432x288 with 1 Axes>"
      ]
     },
     "metadata": {},
     "output_type": "display_data"
    }
   ],
   "source": [
    "from mpl_toolkits.mplot3d import Axes3D\n",
    "\n",
    "fig3, ax3 = plt.subplots(subplot_kw={'projection':'3d'})\n",
    "\n",
    "s2_cc = ax3.plot_surface(S2_3D_X, S2_3D_Y, S2_3D_Z, facecolors=S2_C, cmap=ch_cm)\n",
    "s1_cc = ax3.plot_surface(S1_3D_X, S1_3D_Y, S1_3D_Z, facecolors=S1_C, cmap=ch_cm)\n",
    "s3_cc = ax3.plot_surface(S3_3D_X, S3_3D_Y, S3_3D_Z, facecolors=S3_C, cmap=ch_cm)\n",
    "\n",
    "ax3.view_init(elev=30, azim=None)\n",
    "\n",
    "ax3.set_axis_off()\n",
    "\n",
    "ax3.set_xlim(-2,2)\n",
    "ax3.set_ylim(-2,2)\n",
    "ax3.set_zlim(-2,2)\n",
    "\n",
    "# s1_cc.set_clim(S1_Colors.min(), S1_Colors.max())\n",
    "# s1_cb = fig3.colorbar(s1_cc, ax=ax3)"
   ]
  },
  {
   "cell_type": "code",
   "execution_count": 27,
   "metadata": {},
   "outputs": [],
   "source": [
    "# fig3.savefig(\"charge-density-test-5.png\")"
   ]
  },
  {
   "cell_type": "markdown",
   "metadata": {},
   "source": [
    "# Eval and Draw E field line"
   ]
  },
  {
   "cell_type": "code",
   "execution_count": 28,
   "metadata": {},
   "outputs": [
    {
     "data": {
      "image/png": "[encoded data removed]",
      "text/plain": [
       "<Figure size 432x288 with 2 Axes>"
      ]
     },
     "metadata": {},
     "output_type": "display_data"
    }
   ],
   "source": [
    "fig, ax = plt.subplots()\n",
    "img = ax.imshow(V.V.transpose(), origin='lower', extent=(rho_min,rho_max,z_min,z_max), cmap='hot', vmax=1.1)\n",
    "cb = fig.colorbar(img, ax=ax)"
   ]
  },
  {
   "cell_type": "code",
   "execution_count": 29,
   "metadata": {},
   "outputs": [
    {
     "data": {
      "text/plain": [
       "[<matplotlib.lines.Line2D at 0x7f6defcea438>]"
      ]
     },
     "execution_count": 29,
     "metadata": {},
     "output_type": "execute_result"
    },
    {
     "data": {
      "image/png": "[encoded data removed]",
      "text/plain": [
       "<Figure size 432x288 with 1 Axes>"
      ]
     },
     "metadata": {},
     "output_type": "display_data"
    }
   ],
   "source": [
    "figs, axs = plt.subplots()\n",
    "axs.plot(z_arr, V[4], '.-')"
   ]
  },
  {
   "cell_type": "code",
   "execution_count": 30,
   "metadata": {},
   "outputs": [
    {
     "name": "stdout",
     "output_type": "stream",
     "text": [
      "single-cylinder-V0=1.000-test-0.png\n"
     ]
    }
   ],
   "source": [
    "fig_filename = \"single-cylinder-V0={:.3f}-test-0.png\".format(V0)\n",
    "print(fig_filename)\n",
    "# fig.savefig(fig_filename)"
   ]
  }
 ],
 "metadata": {
  "kernelspec": {
   "display_name": "Python 3",
   "language": "python",
   "name": "python3"
  },
  "language_info": {
   "codemirror_mode": {
    "name": "ipython",
    "version": 3
   },
   "file_extension": ".py",
   "mimetype": "text/x-python",
   "name": "python",
   "nbconvert_exporter": "python",
   "pygments_lexer": "ipython3",
   "version": "3.6.0"
  }
 },
 "nbformat": 4,
 "nbformat_minor": 2
}
