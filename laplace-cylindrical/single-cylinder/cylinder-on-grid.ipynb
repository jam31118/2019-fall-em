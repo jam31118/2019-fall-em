{
 "cells": [
  {
   "cell_type": "code",
   "execution_count": 1,
   "metadata": {},
   "outputs": [],
   "source": [
    "import numpy as np\n",
    "from numpy import sqrt, pi\n",
    "import matplotlib.pyplot as plt\n",
    "\n",
    "from numpy import cos, sin\n",
    "\n",
    "from matplotlib.colors import Normalize\n",
    "from matplotlib import cm"
   ]
  },
  {
   "cell_type": "markdown",
   "metadata": {},
   "source": [
    "# Define spatial grid"
   ]
  },
  {
   "cell_type": "code",
   "execution_count": 2,
   "metadata": {},
   "outputs": [],
   "source": [
    "rho_min, rho_max, min_delta_rho = 0.0, 5.0, 0.05\n",
    "z_min, z_max, min_delta_z = -3.0, 6.0, 0.1"
   ]
  },
  {
   "cell_type": "code",
   "execution_count": 3,
   "metadata": {},
   "outputs": [],
   "source": [
    "assert (rho_min >= 0) and (rho_min < rho_max)\n",
    "assert (z_min < z_max)\n",
    "\n",
    "def get_N_grid(xmin, xmax, min_delta_x): \n",
    "    return int((xmax-xmin+min_delta_x)/min_delta_x) + 1\n",
    "\n",
    "N_rho = get_N_grid(rho_min, rho_max, min_delta_rho)\n",
    "rho_arr = np.linspace(rho_min, rho_max, N_rho)\n",
    "delta_rho = rho_arr[1] - rho_arr[0]\n",
    "\n",
    "N_z = get_N_grid(z_min, z_max, min_delta_z)\n",
    "z_arr = np.linspace(z_min, z_max, N_z)\n",
    "delta_z = z_arr[1] - z_arr[0]\n",
    "\n",
    "drho, dz = delta_rho, delta_z  # aliasing\n",
    "\n",
    "grid_shape = (N_rho, N_z)"
   ]
  },
  {
   "cell_type": "markdown",
   "metadata": {},
   "source": [
    "## Define 2D meshgrid"
   ]
  },
  {
   "cell_type": "code",
   "execution_count": 4,
   "metadata": {},
   "outputs": [],
   "source": [
    "Rho, Z = np.meshgrid(rho_arr, z_arr, indexing='ij')"
   ]
  },
  {
   "cell_type": "markdown",
   "metadata": {},
   "source": [
    "# Construct a boundary condition array"
   ]
  },
  {
   "cell_type": "markdown",
   "metadata": {},
   "source": [
    "## Define a conductor"
   ]
  },
  {
   "cell_type": "code",
   "execution_count": 5,
   "metadata": {},
   "outputs": [],
   "source": [
    "z_cy_mid_ind = z_arr.size // 3\n",
    "z_cy_mid = z_arr[z_cy_mid_ind]\n",
    "\n",
    "half_l_in_pt_num = z_arr.size // 6\n",
    "z_cy_max_ind = z_cy_mid_ind + half_l_in_pt_num\n",
    "z_cy_min_ind = z_cy_mid_ind - half_l_in_pt_num\n",
    "z_cy_max = z_arr[z_cy_max_ind]\n",
    "z_cy_min = z_arr[z_cy_min_ind]\n",
    "# half_l = (half_l_in_ind - 1) * delta_z\n",
    "l = z_cy_max - z_cy_min\n",
    "\n",
    "R_ind = rho_arr.size // 3\n",
    "R = rho_arr[R_ind]\n",
    "\n",
    "V0 = 1.0\n",
    "assert z_min < z_cy_mid - l/2 and z_cy_mid + l/2 < z_max"
   ]
  },
  {
   "cell_type": "code",
   "execution_count": 6,
   "metadata": {},
   "outputs": [],
   "source": [
    "assert rho_min == 0  # so that it can be a cylinder\n",
    "s1_ind = [(rho_ind, z_cy_max_ind) for rho_ind in range(R_ind+1)]\n",
    "s2_ind = [(R_ind, z_ind) for z_ind in range(z_cy_min_ind,z_cy_max_ind+1)]\n",
    "s3_ind = [(rho_ind, z_cy_min_ind) for rho_ind in range(R_ind+1)]\n",
    "\n",
    "surf_points_ind = np.array([*s1_ind, *s2_ind, *s3_ind])"
   ]
  },
  {
   "cell_type": "code",
   "execution_count": 7,
   "metadata": {},
   "outputs": [
    {
     "data": {
      "image/png": "[encoded data removed]",
      "text/plain": [
       "<Figure size 432x288 with 1 Axes>"
      ]
     },
     "metadata": {},
     "output_type": "display_data"
    }
   ],
   "source": [
    "figsu, axsu = plt.subplots()\n",
    "axsu.plot(surf_points_ind[:,0], surf_points_ind[:,1],'.')\n",
    "axsu.set_aspect(1.0)\n",
    "\n",
    "# figsu.savefig(\"surface-points-cylinder-test-0.png\")"
   ]
  },
  {
   "cell_type": "markdown",
   "metadata": {},
   "source": [
    "# [assumption] each conductors should be separated a bit - in order to prevent some numerical artifacts due to possible discontinuity"
   ]
  },
  {
   "cell_type": "code",
   "execution_count": 8,
   "metadata": {},
   "outputs": [],
   "source": [
    "bd_cond = np.ma.array(np.full(grid_shape, -1e10, dtype=float), mask=True)\n",
    "\n",
    "# Bounding box\n",
    "bd_cond.mask[:,[0,-1]] = False\n",
    "bd_cond[:,[0,-1]] = 0.0\n",
    "\n",
    "bd_cond.mask[-1,:] = False\n",
    "bd_cond[-1,:] = 0.0\n",
    "\n",
    "if rho_arr[0] > 0: \n",
    "    bd_cond.mask[0,:] = False\n",
    "    bd_cond[0,:] = 0.0\n",
    "             \n",
    "# a cylinder\n",
    "cy_mask = (Rho <= R) & ((z_cy_min) <= Z) & (Z <= (z_cy_max))\n",
    "bd_cond.mask[cy_mask] = False\n",
    "bd_cond[cy_mask] = V0"
   ]
  },
  {
   "cell_type": "code",
   "execution_count": 9,
   "metadata": {},
   "outputs": [],
   "source": [
    "V = np.empty(bd_cond.shape, dtype=float)\n",
    "V[:] = np.random.rand(*bd_cond.shape)\n",
    "V[~bd_cond.mask] = bd_cond[~bd_cond.mask]"
   ]
  },
  {
   "cell_type": "markdown",
   "metadata": {},
   "source": [
    "# Get normal E (.. well, there would only left normal component though) and eval charge dist."
   ]
  },
  {
   "cell_type": "markdown",
   "metadata": {},
   "source": [
    "# Auto stop by checking convergence"
   ]
  },
  {
   "cell_type": "code",
   "execution_count": 10,
   "metadata": {},
   "outputs": [],
   "source": [
    "c1 = 1.0 / (4.0 / drho**2 + 2.0 / dz**2)\n",
    "c2 = 1.0 / (2.0/drho**2 + 2.0/dz**2)\n",
    "\n",
    "\n",
    "for _ in range(1000):\n",
    "    \n",
    "    V[0,1:-1] = c1 * (\n",
    "        4.0 / drho**2 * V[1,1:-1]\n",
    "        + 1.0 / dz**2 * (V[0,2:] + V[0,:-2])\n",
    "    )\n",
    "\n",
    "    V[1:-1,1:-1] = c2 * (\n",
    "        1.0/drho**2 * (V[2:,1:-1] + V[:-2,1:-1]) \n",
    "        + (1.0/2.0/drho /rho_arr[1:-1] * (V[2:,1:-1] - V[:-2,1:-1]).transpose()).transpose()\n",
    "        + 1.0/dz**2 * (V[1:-1,2:] + V[1:-1,:-2])\n",
    "    )\n",
    "    \n",
    "    V[~bd_cond.mask] = bd_cond[~bd_cond.mask]"
   ]
  },
  {
   "cell_type": "markdown",
   "metadata": {},
   "source": [
    "# Eval normal E"
   ]
  },
  {
   "cell_type": "code",
   "execution_count": 11,
   "metadata": {},
   "outputs": [],
   "source": [
    "epsil0 = 1.0 / (4*pi)\n",
    "s1_sigma = np.array([epsil0 * -(V[rho_ind, z_ind+1] - V[rho_ind,z_ind]) / delta_z for (rho_ind, z_ind) in s1_ind])\n",
    "s2_sigma = np.array([epsil0 * -(V[rho_ind+1, z_ind] - V[rho_ind,z_ind]) / delta_rho for (rho_ind, z_ind) in s2_ind])\n",
    "s3_sigma = np.array([epsil0 * (V[rho_ind, z_ind] - V[rho_ind,z_ind-1]) / delta_z for (rho_ind, z_ind) in s3_ind])"
   ]
  },
  {
   "cell_type": "code",
   "execution_count": 12,
   "metadata": {},
   "outputs": [],
   "source": [
    "s1_rho_arr = rho_arr[np.array(s1_ind)[:,0]]\n",
    "s1_rho_grid = np.empty((len(s1_ind)+1,))\n",
    "s1_rho_grid[0] = s1_rho_arr[0] - 0.5*delta_rho\n",
    "s1_rho_grid[-1] = s1_rho_arr[-1] + 0.5*delta_rho\n",
    "s1_rho_grid[1:-1] = 0.5 * (s1_rho_arr[:-1] + s1_rho_arr[1:])\n",
    "\n",
    "s1_z_arr = z_arr[np.array(s1_ind)[0,0]].reshape(1,)\n",
    "s1_z_grid = np.array((z_cy_max-0.5*delta_z,z_cy_max+0.5*delta_z))\n",
    "# construct_catesian_mesh_for_pcolormesh(s1_rho_arr, s1_z_arr)\n",
    "\n",
    "s1_Rho, s1_Z = np.meshgrid(s1_rho_grid, s1_z_grid, indexing='ij')"
   ]
  },
  {
   "cell_type": "code",
   "execution_count": 13,
   "metadata": {},
   "outputs": [
    {
     "data": {
      "text/plain": [
       "<matplotlib.collections.QuadMesh at 0x7f77a3be0cf8>"
      ]
     },
     "execution_count": 13,
     "metadata": {},
     "output_type": "execute_result"
    },
    {
     "data": {
      "image/png": "[encoded data removed]",
      "text/plain": [
       "<Figure size 432x576 with 1 Axes>"
      ]
     },
     "metadata": {},
     "output_type": "display_data"
    }
   ],
   "source": [
    "from vis.plot import construct_catesian_mesh_for_pcolormesh\n",
    "Rho_mesh, Z_mesh = construct_catesian_mesh_for_pcolormesh(rho_arr, z_arr)\n",
    "\n",
    "figg ,axx = plt.subplots(figsize=(6,8))\n",
    "axx.pcolormesh(Rho_mesh, Z_mesh, bd_cond.mask)\n",
    "axx.set_aspect(1.0)\n",
    "\n",
    "for (rho_ind, z_ind) in surf_points_ind:\n",
    "    rho, z = rho_arr[rho_ind], z_arr[z_ind]\n",
    "    axx.plot(rho, z, '.')\n",
    "# axx.plot(surf_points[:,0], surf_points[:,1],'.')\n",
    "# axx.imshow(bd_cond.mask)\n",
    "\n",
    "axx.pcolormesh(s1_Rho, s1_Z, s1_sigma.reshape((s1_sigma.size,1)), cmap='jet')\n",
    "\n",
    "# figg.savefig(\"mask-with-surf-and-near-points-test-1.png\")"
   ]
  },
  {
   "cell_type": "code",
   "execution_count": 14,
   "metadata": {},
   "outputs": [],
   "source": [
    "phi_arr = np.linspace(0,2*pi,51)"
   ]
  },
  {
   "cell_type": "code",
   "execution_count": 15,
   "metadata": {},
   "outputs": [],
   "source": [
    "sigma = np.array([*s1_sigma, *s2_sigma, *s3_sigma])\n",
    "ch_max, ch_min = sigma.max(), sigma.min()\n",
    "\n",
    "# vmax = max(abs(ch_max), abs(ch_min))\n",
    "# vmin = -vmax\n",
    "\n",
    "vmin, vmax = ch_min, ch_max\n",
    "\n",
    "norm = Normalize(vmin, vmax, clip=True)\n",
    "\n",
    "# ch_cm = cm.seismic\n",
    "ch_cm = cm.jet"
   ]
  },
  {
   "cell_type": "code",
   "execution_count": 16,
   "metadata": {},
   "outputs": [],
   "source": [
    "s1_3d_rho_grid = np.empty((s1_rho_arr.size+1,))\n",
    "s1_3d_rho_grid[1:-1] = 0.5 * (s1_rho_arr[:-1] + s1_rho_arr[1:])\n",
    "s1_3d_rho_grid[0] = 0.0\n",
    "s1_3d_rho_grid[-1] = R"
   ]
  },
  {
   "cell_type": "code",
   "execution_count": 17,
   "metadata": {},
   "outputs": [],
   "source": [
    "S1_3D_Rho_Grid, S1_3D_Phi_Grid = np.meshgrid(s1_3d_rho_grid, phi_arr)\n",
    "S1_3D_X = S1_3D_Rho_Grid * cos(S1_3D_Phi_Grid)\n",
    "S1_3D_Y = S1_3D_Rho_Grid * sin(S1_3D_Phi_Grid)\n",
    "S1_3D_Z = np.full_like(S1_3D_X, z_cy_max)\n",
    "\n",
    "# S1_3D_Rho, S1_3D_Phi = np.meshgrid(s1_rho_arr, phi_arr)\n",
    "# S1_3D_X = S1_3D_Rho * cos(S1_3D_Phi)\n",
    "# S1_3D_Y = S1_3D_Rho * sin(S1_3D_Phi)\n",
    "# S1_3D_Z = np.full_like(S1_3D_X, z_cy_max)\n",
    "\n",
    "S1_Colors = np.empty((phi_arr.size, s1_rho_arr.size))\n",
    "S1_Colors[:] = s1_sigma\n",
    "\n",
    "# s1_norm = Normalize(S1_Colors.min(), S1_Colors.max(), clip=True)\n",
    "S1_C = ch_cm(norm(S1_Colors))"
   ]
  },
  {
   "cell_type": "code",
   "execution_count": 18,
   "metadata": {},
   "outputs": [],
   "source": [
    "s3_rho_arr = s1_rho_arr\n",
    "s3_3d_rho_grid = s1_3d_rho_grid\n",
    "S3_3D_Rho_Grid, S3_3D_Phi_Grid = np.meshgrid(s3_3d_rho_grid, phi_arr)\n",
    "S3_3D_X = S3_3D_Rho_Grid * cos(S3_3D_Phi_Grid)\n",
    "S3_3D_Y = S3_3D_Rho_Grid * sin(S3_3D_Phi_Grid)\n",
    "S3_3D_Z = np.full_like(S3_3D_X, z_cy_min)\n",
    "\n",
    "S3_Colors = np.empty((phi_arr.size, s3_rho_arr.size))\n",
    "S3_Colors[:] = s3_sigma\n",
    "\n",
    "# s3_norm = Normalize(S3_Colors.min(), S3_Colors.max(), clip=True)\n",
    "S3_C = ch_cm(norm(S3_Colors))"
   ]
  },
  {
   "cell_type": "code",
   "execution_count": 19,
   "metadata": {},
   "outputs": [],
   "source": [
    "s2_z_arr = z_arr[np.array(s2_ind)[:,1]]\n",
    "\n",
    "s2_3d_z_grid = np.empty(s2_z_arr.size + 1,)\n",
    "s2_3d_z_grid[0] = s2_z_arr[0]\n",
    "s2_3d_z_grid[1:-1] = 0.5 * (s2_z_arr[:-1] + s2_z_arr[1:])\n",
    "s2_3d_z_grid[-1] = s2_z_arr[-1]\n",
    "\n",
    "S2_3D_Z_Grid, S2_3D_Phi_Grid = np.meshgrid(s2_3d_z_grid, phi_arr)\n",
    "S2_3D_X = R * cos(S2_3D_Phi_Grid)\n",
    "S2_3D_Y = R * sin(S2_3D_Phi_Grid)\n",
    "S2_3D_Z = S2_3D_Z_Grid\n",
    "\n",
    "S2_Colors = np.empty((phi_arr.size, s2_z_arr.size))\n",
    "S2_Colors[:] = s2_sigma\n",
    "\n",
    "# s2_norm = Normalize(S2_Colors.min(), S2_Colors.max(), clip=True)\n",
    "S2_C = ch_cm(norm(S2_Colors))"
   ]
  },
  {
   "cell_type": "code",
   "execution_count": 20,
   "metadata": {},
   "outputs": [],
   "source": [
    "# S2_3D_Z_Grid, S2_3D_Phi_Grid = np.meshgrid(s2_3d_z_grid, phi_arr)\n",
    "# S3_3D_X = S3_3D_Rho_Grid * cos(S3_3D_Phi_Grid)\n",
    "# S3_3D_Y = S3_3D_Rho_Grid * sin(S3_3D_Phi_Grid)\n",
    "# S3_3D_Z = np.full_like(S3_3D_X, z_cy_min)\n",
    "\n",
    "# S3_Colors = np.empty((phi_arr.size, s3_rho_arr.size))\n",
    "# S3_Colors[:] = s3_sigma\n",
    "\n",
    "# s3_norm = Normalize(S3_Colors.min(), S3_Colors.max(), clip=True)\n",
    "# S3_C = cm.jet(s3_norm(S3_Colors))"
   ]
  },
  {
   "cell_type": "code",
   "execution_count": 21,
   "metadata": {},
   "outputs": [
    {
     "data": {
      "text/plain": [
       "(-2, 2)"
      ]
     },
     "execution_count": 21,
     "metadata": {},
     "output_type": "execute_result"
    },
    {
     "data": {
      "image/png": "[encoded data removed]",
      "text/plain": [
       "<Figure size 432x288 with 1 Axes>"
      ]
     },
     "metadata": {},
     "output_type": "display_data"
    }
   ],
   "source": [
    "from mpl_toolkits.mplot3d import Axes3D\n",
    "\n",
    "fig3, ax3 = plt.subplots(subplot_kw={'projection':'3d'})\n",
    "\n",
    "s2_cc = ax3.plot_surface(S2_3D_X, S2_3D_Y, S2_3D_Z, facecolors=S2_C, cmap=ch_cm)\n",
    "s1_cc = ax3.plot_surface(S1_3D_X, S1_3D_Y, S1_3D_Z, facecolors=S1_C, cmap=ch_cm)\n",
    "s3_cc = ax3.plot_surface(S3_3D_X, S3_3D_Y, S3_3D_Z, facecolors=S3_C, cmap=ch_cm)\n",
    "\n",
    "ax3.view_init(elev=30, azim=None)\n",
    "\n",
    "ax3.set_axis_off()\n",
    "\n",
    "ax3.set_xlim(-2,2)\n",
    "ax3.set_ylim(-2,2)\n",
    "ax3.set_zlim(-2,2)\n",
    "\n",
    "# s1_cc.set_clim(S1_Colors.min(), S1_Colors.max())\n",
    "# s1_cb = fig3.colorbar(s1_cc, ax=ax3)"
   ]
  },
  {
   "cell_type": "code",
   "execution_count": 22,
   "metadata": {},
   "outputs": [],
   "source": [
    "# fig3.savefig(\"charge-density-test-5.png\")"
   ]
  },
  {
   "cell_type": "markdown",
   "metadata": {},
   "source": [
    "# Eval and Draw E field line"
   ]
  },
  {
   "cell_type": "code",
   "execution_count": 23,
   "metadata": {},
   "outputs": [
    {
     "data": {
      "image/png": "[encoded data removed]",
      "text/plain": [
       "<Figure size 432x288 with 2 Axes>"
      ]
     },
     "metadata": {},
     "output_type": "display_data"
    }
   ],
   "source": [
    "fig, ax = plt.subplots()\n",
    "img = ax.imshow(V.transpose(), origin='lower', extent=(rho_min,rho_max,z_min,z_max), cmap='hot', vmax=1.1)\n",
    "cb = fig.colorbar(img, ax=ax)"
   ]
  },
  {
   "cell_type": "code",
   "execution_count": 24,
   "metadata": {},
   "outputs": [
    {
     "data": {
      "text/plain": [
       "[<matplotlib.lines.Line2D at 0x7f77a370a6d8>]"
      ]
     },
     "execution_count": 24,
     "metadata": {},
     "output_type": "execute_result"
    },
    {
     "data": {
      "image/png": "[encoded data removed]",
      "text/plain": [
       "<Figure size 432x288 with 1 Axes>"
      ]
     },
     "metadata": {},
     "output_type": "display_data"
    }
   ],
   "source": [
    "figs, axs = plt.subplots()\n",
    "axs.plot(z_arr, V[4], '.-')"
   ]
  },
  {
   "cell_type": "code",
   "execution_count": 25,
   "metadata": {},
   "outputs": [
    {
     "name": "stdout",
     "output_type": "stream",
     "text": [
      "single-cylinder-V0=1.000-test-0.png\n"
     ]
    }
   ],
   "source": [
    "fig_filename = \"single-cylinder-V0={:.3f}-test-0.png\".format(V0)\n",
    "print(fig_filename)\n",
    "# fig.savefig(fig_filename)"
   ]
  }
 ],
 "metadata": {
  "kernelspec": {
   "display_name": "Python 3",
   "language": "python",
   "name": "python3"
  },
  "language_info": {
   "codemirror_mode": {
    "name": "ipython",
    "version": 3
   },
   "file_extension": ".py",
   "mimetype": "text/x-python",
   "name": "python",
   "nbconvert_exporter": "python",
   "pygments_lexer": "ipython3",
   "version": "3.6.0"
  }
 },
 "nbformat": 4,
 "nbformat_minor": 2
}
